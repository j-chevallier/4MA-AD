{
 "cells": [
  {
   "cell_type": "markdown",
   "id": "8a1c1522",
   "metadata": {},
   "source": [
    "# Clustering with <a href=\"https://cran.r-project.org/\"><img src=\"https://cran.r-project.org/Rlogo.svg\" style=\"max-width: 40px; display: inline\" alt=\"R\"/></a>\n",
    "\n",
    "---\n",
    "\n",
    "The objective of this tutorial is to apply the different concepts studied during the course on clustering to identify groups of wines.\n",
    "\n",
    "---"
   ]
  },
  {
   "cell_type": "markdown",
   "id": "089e2f3e",
   "metadata": {},
   "source": [
    "## Data exploration\n",
    "\n",
    "In this tutoral we will studied the _wine_ dataset (_wine.txt_).\n",
    "This dataset includes physico-chemical measurements performed on a sample of $n=600$ wines (red and white) from Portugal. These measurements are complemented by a sensory evaluation of the quality by a set of experts. Each wine is described by the following variables:\n",
    "- _Quality:_ Wine quality according to experts (“bad“, “medium”, “good”),\n",
    "- _Type:_ 1 for red wine and 0 for white wine,\n",
    "- _AcidVol:_ The volatile acid content (in g/dm3 of acetic acid),\n",
    "- _AcidCitr:_ The citric acid content (in g/dm3),\n",
    "- _SO2lbr:_ The measurement of free sulfur dioxide (in mg/dm3),\n",
    "- _SO2tot:_ Total sulfur dioxide measurement (in mg/dm3),\n",
    "- _Density:_ The density (in g/cm3),\n",
    "- _Alcohol:_ The alcohol level (in % of Vol.)."
   ]
  },
  {
   "cell_type": "markdown",
   "id": "cd314362",
   "metadata": {},
   "source": [
    "### Some important parkages"
   ]
  },
  {
   "cell_type": "code",
   "execution_count": null,
   "id": "f63eb27a",
   "metadata": {},
   "outputs": [],
   "source": [
    "library(mclust)\n",
    "library(cluster)\n",
    "library(factoextra)\n",
    "library(FactoMineR)\n",
    "library(ppclust)\n",
    "library(reticulate)\n",
    "library(ggplot2)\n",
    "library(reshape)\n",
    "library(corrplot)\n",
    "library(gridExtra)\n",
    "library(circlize)\n",
    "library(tidyverse)"
   ]
  },
  {
   "cell_type": "markdown",
   "id": "7fac2560",
   "metadata": {},
   "source": [
    "##### <span style=\"color:purple\">**Todo:** Load the _wine.txt_ dataset and: </span>\n",
    "\n",
    "- Use the `str()` function to show information about variables. Are all variables on the appropriated type?\n",
    "- If not transform quantitative variables to factors with the `as.factor` function.\n",
    "- Rename the levels of the variable _type_ : 1=red and 0=white."
   ]
  },
  {
   "cell_type": "code",
   "execution_count": null,
   "id": "2fdfbe04",
   "metadata": {},
   "outputs": [],
   "source": [
    "### TO BE COMPLETED ### \n",
    "\n",
    "wine = ...\n",
    "\n",
    "[...]\n",
    "\n",
    "head(wine)"
   ]
  },
  {
   "cell_type": "code",
   "execution_count": null,
   "id": "3e5b68be-5694-4bc4-898b-b62fedf1969f",
   "metadata": {},
   "outputs": [],
   "source": [
    "# source(\"solutions/data/load_data.r\", echo=TRUE)"
   ]
  },
  {
   "cell_type": "markdown",
   "id": "eb1a7226-7182-40de-adb1-56c44b8b13a5",
   "metadata": {},
   "source": [
    "<span style=\"color:teal \">[Solution]</span>\n",
    "\n",
    "<!-- **Interpretation**: \n",
    "* The _Type_ variable is considered as numeric variable,\n",
    "* The variable _Quantite_ is condired as character. -->\n"
   ]
  },
  {
   "cell_type": "markdown",
   "id": "bb68d1a3-955a-4602-b1a6-0e7d77a8dd6b",
   "metadata": {},
   "source": [
    "### Exploratory data analysis"
   ]
  },
  {
   "cell_type": "code",
   "execution_count": null,
   "id": "2e248c5a-9889-47e7-a56c-79d0ac709046",
   "metadata": {},
   "outputs": [],
   "source": [
    "library(corrplot)"
   ]
  },
  {
   "cell_type": "code",
   "execution_count": null,
   "id": "e94d2094",
   "metadata": {},
   "outputs": [],
   "source": [
    "summary(wine)"
   ]
  },
  {
   "cell_type": "markdown",
   "id": "cd3f3537",
   "metadata": {},
   "source": [
    "##### <span style=\"color:purple\">**Todo:** Descriptive statistic and bivariate analysis: </span>\n",
    "- Show description of variables with the `summary` function,\n",
    "- Draw boxplots of quantitative variables. Analyze the results,\n",
    "- Do graphical description of qualitative variables (barplot),\n",
    "- Analyze correlation between numeric variables."
   ]
  },
  {
   "cell_type": "code",
   "execution_count": null,
   "id": "a670e619-5165-4b7a-91ae-b228c384b17b",
   "metadata": {},
   "outputs": [],
   "source": [
    "### TO BE COMPLETED ### \n",
    "# Descriptive statistics of quantitative data\n"
   ]
  },
  {
   "cell_type": "code",
   "execution_count": null,
   "id": "dd56c82d",
   "metadata": {},
   "outputs": [],
   "source": [
    "# source(\"solutions/data/quanti.r\", echo=TRUE)"
   ]
  },
  {
   "cell_type": "markdown",
   "id": "c9c1bec0",
   "metadata": {},
   "source": [
    "<span style=\"color:teal \">[Solution]</span>\n",
    "\n",
    "<!-- **Interpretation**: \n",
    " * The variables do not have the same overall distribution and variances,\n",
    " * Moreover, they are not expressed in the same units (units are not homogeneous). -->"
   ]
  },
  {
   "cell_type": "code",
   "execution_count": null,
   "id": "4a37a27b-882a-4069-9144-7cf28efd67c5",
   "metadata": {},
   "outputs": [],
   "source": [
    "### TO BE COMPLETED ### \n",
    "# Descriptive statistics of qualitative data\n"
   ]
  },
  {
   "cell_type": "code",
   "execution_count": null,
   "id": "5d6b3e81-83ec-4115-b58d-8e2c0acb1496",
   "metadata": {},
   "outputs": [],
   "source": [
    "# source(\"solutions/data/quali.r\", echo=TRUE)"
   ]
  },
  {
   "cell_type": "markdown",
   "id": "d3dd727a",
   "metadata": {},
   "source": [
    "<span style=\"color:teal \">[Solution]</span>\n",
    "\n",
    "<!-- **Interpretation**: \n",
    " * Frequency of levels of each quantitative vriable are not homogeneous. -->"
   ]
  },
  {
   "cell_type": "code",
   "execution_count": null,
   "id": "6204b21d-41b3-4102-937e-d95ddeccc388",
   "metadata": {},
   "outputs": [],
   "source": [
    "### TO BE COMPLETED ### \n",
    "# Correlation study\n"
   ]
  },
  {
   "cell_type": "code",
   "execution_count": null,
   "id": "9991a0a1",
   "metadata": {},
   "outputs": [],
   "source": [
    "# source(\"solutions/data/correlation.r\", echo=TRUE)"
   ]
  },
  {
   "cell_type": "markdown",
   "id": "3cca5a7c-9f2c-4321-a6d2-afdb62b2ce02",
   "metadata": {},
   "source": [
    "<span style=\"color:teal \">[Solution]</span>\n",
    "\n",
    "<!-- **Interpretation**: \n",
    " * Correlation coefficients between numeric variables are relatively low except for _Density_ and _Alcohol_ (-0.68). -->"
   ]
  },
  {
   "cell_type": "markdown",
   "id": "62650986-353e-4501-89fa-300eb3295570",
   "metadata": {},
   "source": [
    "### Principal Component Analysis"
   ]
  },
  {
   "cell_type": "code",
   "execution_count": null,
   "id": "b8be8220-1ef3-4339-ab3f-84a556135c4b",
   "metadata": {},
   "outputs": [],
   "source": [
    "library(ggpubr)  #to get the ggarrange function"
   ]
  },
  {
   "cell_type": "markdown",
   "id": "1170a24c",
   "metadata": {},
   "source": [
    "##### <span style=\"color:purple\">**Todo:** PCA of wine dataset: </span>\n",
    "\n",
    "- What impact can the above analyses have on the PCA result?\n",
    "- Perform PCA of the _wine_ data (Quantitative variables should be specified as _supplementary_ variables) and make visualization of wines (ind.) on the first factorial plan (use _habillage_ parameter to show groups according to qualitative variables). \n",
    "- How many clusters groups of wines can be suggested?"
   ]
  },
  {
   "cell_type": "markdown",
   "id": "e6a15d63",
   "metadata": {},
   "source": [
    "<span style=\"color:teal \">[Solution]</span>\n",
    "\n",
    "<!-- **Interpretation**:\n",
    "-  The results of the exploratory analysis suggest that variables should be standardized before performing PCA. -->"
   ]
  },
  {
   "cell_type": "code",
   "execution_count": null,
   "id": "850d7f46",
   "metadata": {},
   "outputs": [],
   "source": [
    "### TO BE COMPLETED ### \n",
    "# PCA of wine data -- Variables\n",
    "\n",
    "wine2 = wine\n",
    "wine2[,-c(1,2)] = scale(...)"
   ]
  },
  {
   "cell_type": "code",
   "execution_count": null,
   "id": "cfc8cea2",
   "metadata": {},
   "outputs": [],
   "source": [
    "# source(\"solutions/data/pca_var.r\", echo=TRUE)"
   ]
  },
  {
   "cell_type": "markdown",
   "id": "920cf6ce-5c17-41d1-898e-af21bd49f76c",
   "metadata": {},
   "source": [
    "<span style=\"color:teal \">[Solution]</span>\n",
    "\n",
    "<!-- **Interpretation**: \n",
    " * According to the barplot of explained variances we can choose the first 4 principals components (they explain 91.8% of variance), \n",
    " * The variable _AcidCitr_ is not well explained by the first factorial space. -->"
   ]
  },
  {
   "cell_type": "code",
   "execution_count": null,
   "id": "a37f8efd-230f-4fd5-a0c9-0cad248e2a19",
   "metadata": {},
   "outputs": [],
   "source": [
    "### TO BE COMPLETED ### \n",
    "# PCA of wine data -- Individuals\n"
   ]
  },
  {
   "cell_type": "code",
   "execution_count": null,
   "id": "838f0011",
   "metadata": {},
   "outputs": [],
   "source": [
    "# source(\"solutions/data/pca_ind.r\", echo=TRUE)"
   ]
  },
  {
   "cell_type": "markdown",
   "id": "eb672712-4970-4e1d-a133-c880e55106f9",
   "metadata": {},
   "source": [
    "<span style=\"color:teal \">[Solution]</span>\n",
    "\n",
    "<!-- **Interpretation**: \n",
    " * the first factorial plane allows a clear distinction between white and red wines,\n",
    " * We can also show **3 clusters of wines**. -->"
   ]
  },
  {
   "cell_type": "markdown",
   "id": "d5512c58",
   "metadata": {},
   "source": [
    "## Clustering with $k$-means\n",
    "\n",
    "In this part, we will perform the $k$-means clustering of wines by using only quantitative variable. Qualitative variable will be used to explains obtained clusters."
   ]
  },
  {
   "cell_type": "markdown",
   "id": "869bbc8f",
   "metadata": {},
   "source": [
    "##### <span style=\"color:purple\">**Todo:** Clustering with $k=3$: </span>\n",
    "\n",
    "- By using the `kmeans()` function, perform the clustering the wines. Numeric variables should be standardized before.\n",
    "- Use the `fviz_cluster()` function to visualize cluster on the first factorial plan of the PCA.\n",
    "- Analyze the links between clusters and qualitative variables."
   ]
  },
  {
   "cell_type": "code",
   "execution_count": null,
   "id": "d9e27606",
   "metadata": {},
   "outputs": [],
   "source": [
    "### TO BE COMPLETED ### \n",
    "# k-means, with k=3\n",
    "\n",
    "reskmeans = kmeans(...)"
   ]
  },
  {
   "cell_type": "code",
   "execution_count": null,
   "id": "dd2d3f12",
   "metadata": {},
   "outputs": [],
   "source": [
    "# source(\"solutions/kmeans/kmeans.r\", echo=TRUE)"
   ]
  },
  {
   "cell_type": "code",
   "execution_count": null,
   "id": "6713eba0-b01f-4b70-a82e-d6d3acbd7312",
   "metadata": {},
   "outputs": [],
   "source": [
    "### TO BE COMPLETED ### \n",
    "# Clusters vs Type of wine\n"
   ]
  },
  {
   "cell_type": "code",
   "execution_count": null,
   "id": "b0ba02c5",
   "metadata": {},
   "outputs": [],
   "source": [
    "# source(\"solutions/kmeans/clust_vs_type.r\", echo=TRUE)"
   ]
  },
  {
   "cell_type": "markdown",
   "id": "5a95e070",
   "metadata": {},
   "source": [
    "<span style=\"color:teal \">[Solution]</span>\n",
    "\n",
    "<!-- **Interpretation**: \n",
    " * Cluster 2 is made of red wines,\n",
    " * Cluster 1 is made of white wines with high levels of alcohol,\n",
    " * Cluster 3 white wines with low levels of alcohol. -->"
   ]
  },
  {
   "cell_type": "code",
   "execution_count": null,
   "id": "149be167-a75a-47d1-b6fa-5fc4bc23f6ba",
   "metadata": {},
   "outputs": [],
   "source": [
    "### TO BE COMPLETED ### \n",
    "# Clusters vs Quality of the wine\n"
   ]
  },
  {
   "cell_type": "code",
   "execution_count": null,
   "id": "b7bdfa95",
   "metadata": {},
   "outputs": [],
   "source": [
    "# source(\"solutions/kmeans/clust_vs_quality.r\", echo=TRUE)"
   ]
  },
  {
   "cell_type": "markdown",
   "id": "129c7f0a-c7c9-4ad9-8810-eaf904f79372",
   "metadata": {},
   "source": [
    "<span style=\"color:teal \">[Solution]</span>\n",
    "\n",
    "<!-- **Interpretation**: \n",
    "- Cluster are not linked to the wine quality. -->"
   ]
  },
  {
   "cell_type": "markdown",
   "id": "4e16c0de",
   "metadata": {},
   "source": [
    "##### <span style=\"color:purple\">**Todo:** Determine the best value of $k$: </span>\n",
    "\n",
    "- using the elbow method\n",
    "- using the silhouette score\n",
    "\n",
    "**Note**: _One can use the `fviz_nbclust` of the `factoextra` package_"
   ]
  },
  {
   "cell_type": "code",
   "execution_count": null,
   "id": "866a7c4f-bc64-436b-9bd2-7bd684cd53fe",
   "metadata": {},
   "outputs": [],
   "source": [
    "### TO BE COMPLETED ### \n",
    "# Elbow method used with total within sum of square as metric\n",
    "\n",
    "fviz_nbclust(...)"
   ]
  },
  {
   "cell_type": "code",
   "execution_count": null,
   "id": "f5d9553b",
   "metadata": {},
   "outputs": [],
   "source": [
    "# source(\"solutions/kmeans/elbow_wss.r\", echo=TRUE)"
   ]
  },
  {
   "cell_type": "code",
   "execution_count": null,
   "id": "55ef1828-02c6-47e8-b86d-e50e070d3320",
   "metadata": {},
   "outputs": [],
   "source": [
    "### TO BE COMPLETED ### \n",
    "# Elbow method used with silhouette score as metric\n",
    "\n",
    "fviz_nbclust(...)"
   ]
  },
  {
   "cell_type": "code",
   "execution_count": null,
   "id": "64b85b24",
   "metadata": {},
   "outputs": [],
   "source": [
    "# source(\"solutions/kmeans/elbow_silhouette.r\", echo=TRUE)"
   ]
  },
  {
   "cell_type": "code",
   "execution_count": null,
   "id": "dcf56d37",
   "metadata": {},
   "outputs": [],
   "source": [
    "reskmeans = kmeans(wine2[,-c(1,2)], centers=5) \n",
    "sil = silhouette(reskmeans$cluster, dist(wine2[, -c(1:2)]))\n",
    "fviz_silhouette(sil)"
   ]
  },
  {
   "cell_type": "markdown",
   "id": "779627b5-179f-42ef-9844-d2a8ee536a1e",
   "metadata": {},
   "source": [
    "<span style=\"color:teal \">[Solution]</span>\n",
    "\n",
    "<!-- **Interpretation**: \n",
    "- The Elbow method suggests 3 as optimal number of clusters,\n",
    "- The Silhouette method suggests 4 as optimal number of clusters but the Silhouette avarage value are close for 3 and 4 clusters.  -->"
   ]
  },
  {
   "cell_type": "markdown",
   "id": "892631a2",
   "metadata": {},
   "source": [
    "## Clustering with CAH\n",
    "\n",
    "In this section, we will perform the CAH to make the same analysis as in th preview section."
   ]
  },
  {
   "cell_type": "markdown",
   "id": "64309aa1",
   "metadata": {},
   "source": [
    "##### <span style=\"color:purple\">**Todo**: Use the `hclust` function to perform a hierarchical classification of the wine data</span>\n",
    "\n",
    "- Test the different type of linkage : _single_, _complete_ and _average_,\n",
    "- Graphically, compare the associated dendrograms, and comment on the results."
   ]
  },
  {
   "cell_type": "code",
   "execution_count": null,
   "id": "25c0663b",
   "metadata": {},
   "outputs": [],
   "source": [
    "### TO BE COMPLETED ### \n",
    "\n",
    "# Clustering\n",
    "hclustsingle = hclust(...)\n",
    "hclustcomplete = hclust(...)\n",
    "hclustaverage = hclust(...)\n",
    "\n",
    "# Dendograms visualization\n",
    "fviz_dend(...)"
   ]
  },
  {
   "cell_type": "code",
   "execution_count": null,
   "id": "d746a744",
   "metadata": {},
   "outputs": [],
   "source": [
    "# source(\"solutions/cah/cah.r\", echo=TRUE)"
   ]
  },
  {
   "cell_type": "markdown",
   "id": "a429bb42",
   "metadata": {},
   "source": [
    "##### <span style=\"color:purple\">**Todo:** Find the appropriate number of clusters with `hclustcomplete` by using the both methods (_wss_ and _silhouette_)</span>"
   ]
  },
  {
   "cell_type": "code",
   "execution_count": null,
   "id": "0efda783-338b-49a8-9ed9-c91fd712cb04",
   "metadata": {},
   "outputs": [],
   "source": [
    "### TO BE COMPLETED ### \n"
   ]
  },
  {
   "cell_type": "code",
   "execution_count": null,
   "id": "507eb32f",
   "metadata": {},
   "outputs": [],
   "source": [
    "# source(\"solutions/cah/cah_nb.r\", echo=TRUE)"
   ]
  },
  {
   "cell_type": "markdown",
   "id": "b788f73d-5136-4d27-804d-c2240a4273e1",
   "metadata": {},
   "source": [
    "<span style=\"color:teal \">[Solution]</span>\n",
    "\n",
    "<!-- **Interpretation**:\n",
    "- Both mehtods suggest 3 as optimal number of clusters. -->"
   ]
  },
  {
   "cell_type": "markdown",
   "id": "d5650d0e",
   "metadata": {},
   "source": [
    "##### <span style=\"color:purple\">**Todo:** With the results of the `hclustcomplete`, use the `cutetree()` function to get a clustering with 3 Clusters of wines.</span>\n",
    "- Explain clusters with qualitative variables."
   ]
  },
  {
   "cell_type": "code",
   "execution_count": null,
   "id": "b7796dc1",
   "metadata": {},
   "outputs": [],
   "source": [
    "### TO BE COMPLETED ### \n",
    "\n",
    "ClassK3 = cutree(...)"
   ]
  },
  {
   "cell_type": "code",
   "execution_count": null,
   "id": "ce369893",
   "metadata": {},
   "outputs": [],
   "source": [
    "# source(\"solutions/cah/cah_cut.r\", echo=TRUE)"
   ]
  },
  {
   "cell_type": "code",
   "execution_count": null,
   "id": "d119b962",
   "metadata": {},
   "outputs": [],
   "source": [
    "### TO BE COMPLETED ### \n",
    "# Clusters vs Type of wine\n"
   ]
  },
  {
   "cell_type": "code",
   "execution_count": null,
   "id": "24e9eab0",
   "metadata": {},
   "outputs": [],
   "source": [
    "# source(\"solutions/cah/clust_vs_type.r\", echo=TRUE)"
   ]
  },
  {
   "cell_type": "code",
   "execution_count": null,
   "id": "3e729b52",
   "metadata": {},
   "outputs": [],
   "source": [
    "### TO BE COMPLETED ### \n",
    "# Clusters vs Quality of wine\n"
   ]
  },
  {
   "cell_type": "code",
   "execution_count": null,
   "id": "01df0651",
   "metadata": {},
   "outputs": [],
   "source": [
    "# source(\"solutions/cah/clust_vs_quality.r\", echo=TRUE)"
   ]
  },
  {
   "cell_type": "markdown",
   "id": "7e2c4e09",
   "metadata": {},
   "source": [
    "## Clustering with Gaussian Mixture\n",
    "\n",
    "In this part, we will do the same analysis as above by with the GMM method."
   ]
  },
  {
   "cell_type": "markdown",
   "id": "7ee39622",
   "metadata": {},
   "source": [
    "##### <span style=\"color:purple\">**Todo:** Perform clustering with the `Mclust` function by using the _BIC_ criteria. </span>\n",
    "- Select the best model and visualize the obtained clusters."
   ]
  },
  {
   "cell_type": "code",
   "execution_count": null,
   "id": "0d2f2f76-33e3-4599-88dd-34bd7ac77c09",
   "metadata": {},
   "outputs": [],
   "source": [
    "wine3 = wine2[, -c(1, 2)]"
   ]
  },
  {
   "cell_type": "code",
   "execution_count": null,
   "id": "24e153f4",
   "metadata": {},
   "outputs": [],
   "source": [
    "### TO BE COMPLETED ### \n",
    "# GMM with BIC\n",
    "\n",
    "resBICall = Mclust(...)\n",
    "summary(resBICall)\n",
    "\n",
    "# --- #\n",
    "\n",
    "fviz_mclust(...)"
   ]
  },
  {
   "cell_type": "code",
   "execution_count": null,
   "id": "aa8e2481",
   "metadata": {},
   "outputs": [],
   "source": [
    "# source(\"solutions/gmm/gmm_bic.r\", echo=TRUE)"
   ]
  },
  {
   "cell_type": "markdown",
   "id": "a4292924-0428-4661-8c38-c0a523d556ee",
   "metadata": {},
   "source": [
    "<span style=\"color:teal \">[Solution]</span>\n",
    "\n",
    "<!-- **Interpretation**\n",
    "- We select $G=9$. -->"
   ]
  },
  {
   "cell_type": "markdown",
   "id": "80473ce5",
   "metadata": {},
   "source": [
    "<!-- <span style=\"color:teal \">[Solution]</span> -->\n",
    "\n",
    "**Interpretation**\n",
    "- We select $G=9$."
   ]
  },
  {
   "cell_type": "code",
   "execution_count": null,
   "id": "5003eb86-bdd6-40fb-ab7b-35cd7c43c8ea",
   "metadata": {},
   "outputs": [],
   "source": [
    "### TO BE COMPLETED ### \n",
    "# Best model with BIC\n"
   ]
  },
  {
   "cell_type": "code",
   "execution_count": null,
   "id": "3c4fb173",
   "metadata": {},
   "outputs": [],
   "source": [
    "# source(\"solutions/gmm/gmm_best_bic.r\", echo=TRUE)"
   ]
  },
  {
   "cell_type": "markdown",
   "id": "b2cc0348",
   "metadata": {},
   "source": [
    "##### <span style=\"color:purple\">**Todo:** Perform clustering with the `Mclust` function by using the _ICL_ criteria.</span>\n",
    "- Select the best model and visualize the obtained clusters."
   ]
  },
  {
   "cell_type": "code",
   "execution_count": null,
   "id": "43937cd4",
   "metadata": {},
   "outputs": [],
   "source": [
    "### TO BE COMPLETED ### \n",
    "# GMM with ICL\n",
    "\n",
    "resICLall = mclustICL(...)\n",
    "summary(resICLall)"
   ]
  },
  {
   "cell_type": "code",
   "execution_count": null,
   "id": "fc5de026",
   "metadata": {},
   "outputs": [],
   "source": [
    "# source(\"solutions/gmm/gmm_icl.r\", echo=TRUE)"
   ]
  },
  {
   "cell_type": "code",
   "execution_count": null,
   "id": "a46e5157",
   "metadata": {},
   "outputs": [],
   "source": [
    "### TO BE COMPLETED ### \n",
    "# Best model with ICL\n"
   ]
  },
  {
   "cell_type": "code",
   "execution_count": null,
   "id": "0030a286",
   "metadata": {},
   "outputs": [],
   "source": [
    "# source(\"solutions/gmm/gmm_best_icl.r\", echo=TRUE)"
   ]
  },
  {
   "cell_type": "markdown",
   "id": "14956d81",
   "metadata": {},
   "source": [
    "##### <span style=\"color:purple\">**Question:** Which _GMM_ model to choose?</span>"
   ]
  },
  {
   "cell_type": "markdown",
   "id": "646e75fa",
   "metadata": {},
   "source": [
    "<span style=\"color:teal \">[Solution]</span>\n",
    "\n",
    "<!-- **Interpretation**: The penalty BIC criteria gives to a model with high number of cluster.\n",
    "It preferred to choose model obtained with the _ICL_ criteria. -->"
   ]
  },
  {
   "cell_type": "markdown",
   "id": "f72bc52b-9d36-4bd6-982d-8f9cdb72e60a",
   "metadata": {},
   "source": [
    "##### <span style=\"color:purple\">**Todo:** Analyze cluster with qualitative variables.</span>"
   ]
  },
  {
   "cell_type": "code",
   "execution_count": null,
   "id": "c2a4f9cc",
   "metadata": {},
   "outputs": [],
   "source": [
    "### TO BE COMPLETED ### \n"
   ]
  },
  {
   "cell_type": "code",
   "execution_count": null,
   "id": "05a98120",
   "metadata": {},
   "outputs": [],
   "source": [
    "# source(\"solutions/gmm/quali.r\", echo=TRUE)"
   ]
  },
  {
   "cell_type": "markdown",
   "id": "1c1ca44f-6ef6-4c47-a437-b26c22c8a87d",
   "metadata": {},
   "source": [
    "<span style=\"color:teal \">[Solution]</span>\n",
    "\n",
    "<!-- **Interpretation**: the obtained clusters are linked to the type of wines but not to their quality. -->"
   ]
  },
  {
   "cell_type": "markdown",
   "id": "4eb6868f",
   "metadata": {},
   "source": [
    "## Comparison of clustering algorithms\n",
    "\n",
    "The purpose of this last section is to compare the different results we obtained previously."
   ]
  },
  {
   "cell_type": "markdown",
   "id": "c2fcf65d",
   "metadata": {},
   "source": [
    "### $k$-means _vs._ CAH"
   ]
  },
  {
   "cell_type": "code",
   "execution_count": null,
   "id": "817a041d-9e06-4a8f-b66e-dfab2a78a896",
   "metadata": {},
   "outputs": [],
   "source": [
    "library(cvms)"
   ]
  },
  {
   "cell_type": "code",
   "execution_count": null,
   "id": "cdd61db1",
   "metadata": {},
   "outputs": [],
   "source": [
    "# We remain that best model for these algorithms are:\n",
    "\n",
    "reskmeans = kmeans(wine2[,-c(1,2)], centers=3)\n",
    "ClassK3 = cutree(hclustcomplete, 3)"
   ]
  },
  {
   "cell_type": "markdown",
   "id": "2bd4d1ad",
   "metadata": {},
   "source": [
    "##### <span style=\"color:purple\">**Todo:** Use the `ggarrange` fuction and `fviz_pca` to visualize clusters of these models on the principal component plane</span>"
   ]
  },
  {
   "cell_type": "code",
   "execution_count": null,
   "id": "a95f6035",
   "metadata": {},
   "outputs": [],
   "source": [
    "### TO BE COMPLETED ### \n"
   ]
  },
  {
   "cell_type": "code",
   "execution_count": null,
   "id": "1fc1093b",
   "metadata": {},
   "outputs": [],
   "source": [
    "# source(\"solutions/compare/cah_vs_kmeans.r\", echo=TRUE)"
   ]
  },
  {
   "cell_type": "markdown",
   "id": "0aed1562",
   "metadata": {},
   "source": [
    "##### <span style=\"color:purple\">**Todo:** Analyze the result obtained with the `table()` function</span>"
   ]
  },
  {
   "cell_type": "code",
   "execution_count": null,
   "id": "f8e37c60",
   "metadata": {},
   "outputs": [],
   "source": [
    "### TO BE COMPLETED ### \n"
   ]
  },
  {
   "cell_type": "code",
   "execution_count": null,
   "id": "79808cbb",
   "metadata": {},
   "outputs": [],
   "source": [
    "# source(\"solutions/compare/cah_vs_kmeans_conf.r\", echo=TRUE)"
   ]
  },
  {
   "cell_type": "markdown",
   "id": "75d66965",
   "metadata": {},
   "source": [
    "<span style=\"color:teal \">[Solution]</span>\n",
    "\n",
    "<!-- **Interpretation**: The obtained clusters with these models are not similar. -->"
   ]
  },
  {
   "cell_type": "markdown",
   "id": "2a192d89",
   "metadata": {},
   "source": [
    "### $k$-means _vs._ GMM"
   ]
  },
  {
   "cell_type": "markdown",
   "id": "e389147c",
   "metadata": {},
   "source": [
    "##### <span style=\"color:purple\">**Todo:** Do the same analysis as for $k$-means _vs._ GMM</span>"
   ]
  },
  {
   "cell_type": "code",
   "execution_count": null,
   "id": "906e4072",
   "metadata": {},
   "outputs": [],
   "source": [
    "### TO BE COMPLETED ### \n"
   ]
  },
  {
   "cell_type": "code",
   "execution_count": null,
   "id": "95b0a488",
   "metadata": {},
   "outputs": [],
   "source": [
    "# source(\"solutions/compare/gmm_vs_kmeans.r\", echo=TRUE)"
   ]
  },
  {
   "cell_type": "markdown",
   "id": "980f03b7",
   "metadata": {},
   "source": [
    "<span style=\"color:teal \">[Solution]</span>\n",
    "\n",
    "<!-- **Interpretation**: There is a significant similarity between the clusters obtained by GMM and $k$-means. -->"
   ]
  },
  {
   "cell_type": "markdown",
   "id": "b398e774",
   "metadata": {},
   "source": [
    "### CAH _vs._ GMM"
   ]
  },
  {
   "cell_type": "markdown",
   "id": "592c87d8",
   "metadata": {},
   "source": [
    "##### <span style=\"color:purple\">**Todo:** Do the same analysis as for CAH _vs._ GMM</span>"
   ]
  },
  {
   "cell_type": "code",
   "execution_count": null,
   "id": "725f95ec",
   "metadata": {},
   "outputs": [],
   "source": [
    "### TO BE COMPLETED ### \n"
   ]
  },
  {
   "cell_type": "markdown",
   "id": "1739fced",
   "metadata": {},
   "source": [
    "<span style=\"color:teal \">[Solution]</span>"
   ]
  },
  {
   "cell_type": "code",
   "execution_count": null,
   "id": "33a3d6ab",
   "metadata": {},
   "outputs": [],
   "source": [
    "# source(\"solutions/compare/cah_vs_gmm.r\", echo=TRUE)"
   ]
  },
  {
   "cell_type": "markdown",
   "id": "d359a685",
   "metadata": {},
   "source": [
    "<span style=\"color:teal \">[Solution]</span>\n",
    "\n",
    "<!-- **Interpretation**: Idem as between $k$-mean and CAH. -->"
   ]
  }
 ],
 "metadata": {
  "kernelspec": {
   "display_name": "R",
   "language": "R",
   "name": "ir"
  },
  "language_info": {
   "codemirror_mode": "r",
   "file_extension": ".r",
   "mimetype": "text/x-r-source",
   "name": "R",
   "pygments_lexer": "r",
   "version": "4.2.2"
  },
  "toc-autonumbering": false
 },
 "nbformat": 4,
 "nbformat_minor": 5
}
