{
 "cells": [
  {
   "cell_type": "markdown",
   "id": "335c108d",
   "metadata": {
    "pycharm": {
     "name": "#%% md\n"
    }
   },
   "source": [
    "# Clustering with &nbsp;<a href=\"https://www.python.org/\"><img src=\"https://s3.dualstack.us-east-2.amazonaws.com/pythondotorg-assets/media/community/logos/python-logo-only.png\" style=\"max-width: 35px; display: inline\" alt=\"R\"/></a>\n",
    "\n",
    "\n",
    "_Large multi-spectral image segmentation: Representing the geological diversity of the surface of Mars_\n",
    "\n",
    "---\n",
    "\n",
    "The objective of this tutorial is to use in practice the different concepts studied during the course on clustering. Image segmentation is a standard problem where unsupervised classification is used. Here, we want to apply clustering to the pixels of a multi-spectral image representing the surface of Mars. The goal is to identify different \"types\" of pixels corresponding to different geological compositions, thus generating a geological map of Mars.\n",
    "\n",
    "---"
   ]
  },
  {
   "cell_type": "code",
   "execution_count": null,
   "id": "c3f78612",
   "metadata": {
    "pycharm": {
     "name": "#%%\n"
    }
   },
   "outputs": [],
   "source": [
    "import numpy as np\n",
    "import pandas as pd\n",
    "import seaborn as sns\n",
    "import matplotlib.pyplot as plt\n",
    "\n",
    "%matplotlib inline\n",
    "\n",
    "plt.rcParams[\"figure.figsize\"] = (10, 5)\n",
    "plt.rcParams[\"font.size\"] = 15"
   ]
  },
  {
   "cell_type": "markdown",
   "id": "fe466679",
   "metadata": {
    "pycharm": {
     "name": "#%% md\n"
    }
   },
   "source": [
    "--- \n",
    "\n",
    "## Objective and Data exploration\n",
    "\n",
    "**Data**: The data in the `mars.csv` file represent a hyper-spectral image of the surface of Mars. Visible and near-infrared imagery is a key tele-detection technique, used to study planets thanks to satellites with on-board spectrometers. In march 2014, the OMEGA equipment collected more than 310 Go of raw images. It mapped Mars surface with a resolution between 300 and 3000 meters, depending on the height of the space ship ([Bibring et al., 2005](https://pubmed.ncbi.nlm.nih.gov/15718430/)). For each pixel, the spectral response between 0.36 and 5.2 μm was collected and sampled accross 255 channels. The objective is to characterize the geological composition of Mars surface and in particular to distinguish between different classes of silicates, minerals, oxydes, carbonates and frozen regions.\n",
    "\n",
    "These data are represented by an image of 300 x 128 pixels."
   ]
  },
  {
   "cell_type": "code",
   "execution_count": null,
   "id": "350ba4b5",
   "metadata": {
    "pycharm": {
     "name": "#%%\n"
    }
   },
   "outputs": [],
   "source": [
    "mars = pd.read_csv(\"data_MARS/mars.csv.zip\")\n",
    "\n",
    "mars.describe()"
   ]
  },
  {
   "cell_type": "markdown",
   "id": "6776fe98-90c1-465d-adaf-42a7bd2f7def",
   "metadata": {
    "pycharm": {
     "name": "#%% md\n"
    }
   },
   "source": [
    "##### <span style=\"color:purple\">**Question:** How many spectral values are observed for each pixel?</span>\n",
    "\n",
    "We can start by checking that the images are indeed composed of 300 x 128 pixels.\n",
    "\n",
    "<!-- 255 spectral values -->"
   ]
  },
  {
   "cell_type": "code",
   "execution_count": null,
   "id": "6fa03477-04c2-4759-90ea-0608bf0a2c5e",
   "metadata": {
    "pycharm": {
     "name": "#%%\n"
    }
   },
   "outputs": [],
   "source": [
    "### TO BE COMPLETED ### \n",
    "\n",
    "mars_data = mars.to_numpy()\n",
    "\n",
    "# Dimensions de l'image\n",
    "n_pixel_x = 300\n",
    "n_pixel_y = 128\n",
    "\n",
    "n_pixel = ...\n",
    "dim_spectral = ...\n",
    "\n",
    "print(\"Image size: n_x.n_y:\", n_pixel_x*n_pixel_y)\n",
    "print(\"Number of pixels   :\", n_pixel)\n",
    "print(\"Number of channels :\", dim_spectral)"
   ]
  },
  {
   "cell_type": "code",
   "execution_count": null,
   "id": "c066ab19",
   "metadata": {
    "pycharm": {
     "name": "#%%\n"
    }
   },
   "outputs": [],
   "source": [
    "# %load solutions/data/nb_pixels.py"
   ]
  },
  {
   "cell_type": "markdown",
   "id": "c72a0458-5b30-4a83-9ccd-e06bd6aa2d22",
   "metadata": {
    "pycharm": {
     "name": "#%% md\n"
    }
   },
   "source": [
    "##### <span style=\"color:purple\">**Todo:** Represent the spectral response as a map on the image of Mars.</span>\n",
    "\n",
    "To answer this question :\n",
    "* Randomly select 6 wavelengths,\n",
    "* Visualize the spectral response as an image. You can use the `imshow` function for this purpose."
   ]
  },
  {
   "cell_type": "code",
   "execution_count": null,
   "id": "edfd62bd-31d4-46d3-81c4-2abc5c99027a",
   "metadata": {
    "pycharm": {
     "name": "#%%\n"
    }
   },
   "outputs": [],
   "source": [
    "### TO BE COMPLETED ### \n",
    "\n",
    "[...]"
   ]
  },
  {
   "cell_type": "code",
   "execution_count": null,
   "id": "faa76a0f-e112-4294-a851-b9b4977eaeca",
   "metadata": {
    "pycharm": {
     "name": "#%%\n"
    }
   },
   "outputs": [],
   "source": [
    "# %load solutions/data/spectral_response.py"
   ]
  },
  {
   "cell_type": "markdown",
   "id": "5dea62a1",
   "metadata": {
    "pycharm": {
     "name": "#%% md\n"
    }
   },
   "source": [
    "### Exploration of the wave length distributions"
   ]
  },
  {
   "cell_type": "markdown",
   "id": "925a0b36",
   "metadata": {
    "pycharm": {
     "name": "#%% md\n"
    }
   },
   "source": [
    "##### <span style=\"color:purple\">**Question:** How are the spectral values distributed?</span>\n",
    "\n",
    "To answer this question :\n",
    "* For the same 6 variables as those selected previously, plot the histrogram of the distribution of these spectral values.\n",
    "* We can focus on the symmetry, dispersion and possible multimodal nature of the variables. "
   ]
  },
  {
   "cell_type": "code",
   "execution_count": null,
   "id": "54ad9cab-af05-4f55-976b-787441066c1c",
   "metadata": {
    "pycharm": {
     "name": "#%%\n"
    }
   },
   "outputs": [],
   "source": [
    "### TO BE COMPLETED ### \n",
    "\n",
    "[...]"
   ]
  },
  {
   "cell_type": "code",
   "execution_count": null,
   "id": "10f69442",
   "metadata": {
    "pycharm": {
     "name": "#%%\n"
    }
   },
   "outputs": [],
   "source": [
    "# %load solutions/data/spectral_distrib.py"
   ]
  },
  {
   "cell_type": "markdown",
   "id": "f81aaeeb",
   "metadata": {
    "pycharm": {
     "name": "#%% md\n"
    }
   },
   "source": [
    "<span style=\"color:teal \">[Solution]</span>\n",
    "\n",
    "<!-- **Interpretation**: We can see that some wave lengths have clearly different values from different kinds of pixels.\n",
    "\n",
    "For some dimensions, they could be used alone to define two distinct clusters easily.\n",
    "\n",
    "Overall, the six wave lengths selected appear to be more or less symmetric, although some right spikes are higher than the left spikes, it would not hurt to simply standardize the data. -->"
   ]
  },
  {
   "cell_type": "markdown",
   "id": "da6df892",
   "metadata": {
    "pycharm": {
     "name": "#%% md\n"
    }
   },
   "source": [
    "##### <span style=\"color:purple\">**Question:** Does standardizing this data make sense?</span>\n",
    "\n",
    "To answer this question:\n",
    "* Represent the boxplots of all wave lengths.\n",
    "* Compare the range of the data, their median, the presence of outliers."
   ]
  },
  {
   "cell_type": "code",
   "execution_count": null,
   "id": "943fda28-78b6-41f0-82aa-f12eac3d3755",
   "metadata": {
    "pycharm": {
     "name": "#%%\n"
    }
   },
   "outputs": [],
   "source": [
    "### TO BE COMPLETED ### \n",
    "\n",
    "[...]"
   ]
  },
  {
   "cell_type": "code",
   "execution_count": null,
   "id": "cd8fdaa0",
   "metadata": {
    "pycharm": {
     "name": "#%%\n"
    }
   },
   "outputs": [],
   "source": [
    "# %load solutions/data/data_bp.py"
   ]
  },
  {
   "cell_type": "markdown",
   "id": "936e23cc-026e-4ce0-9c73-8ba75cd96bd3",
   "metadata": {
    "pycharm": {
     "name": "#%% md\n"
    }
   },
   "source": [
    "<span style=\"color:teal \">[Solution]</span>\n",
    "\n",
    "<!--  **Interpretations**:\n",
    "* Some dimentions (wave lengths) appear to have much wider spread than others $\\rightarrow$ Need to normalize the data.\n",
    "* Overall, the median appear to be centered in all the box plots. And they look rather symmetrical $\\rightarrow$ Standardization. -->"
   ]
  },
  {
   "cell_type": "markdown",
   "id": "9cbc86ca-a874-4158-8522-71486c08160d",
   "metadata": {
    "pycharm": {
     "name": "#%% md\n"
    }
   },
   "source": [
    "##### <span style=\"color:purple\">**Todo:** Plot the spectra of a subsample of pixels.</span>"
   ]
  },
  {
   "cell_type": "code",
   "execution_count": null,
   "id": "50c866f3",
   "metadata": {
    "pycharm": {
     "name": "#%%\n"
    }
   },
   "outputs": [],
   "source": [
    "### TO BE COMPLETED ### \n",
    "\n",
    "[...]"
   ]
  },
  {
   "cell_type": "code",
   "execution_count": null,
   "id": "25fcb8bf-100e-42ec-b157-67fdeaaf99e6",
   "metadata": {
    "pycharm": {
     "name": "#%%\n"
    }
   },
   "outputs": [],
   "source": [
    "# %load solutions/data/spectra.py"
   ]
  },
  {
   "cell_type": "markdown",
   "id": "e0c68ea6",
   "metadata": {
    "pycharm": {
     "name": "#%% md\n"
    }
   },
   "source": [
    "### Data standardization"
   ]
  },
  {
   "cell_type": "code",
   "execution_count": null,
   "id": "aff045da",
   "metadata": {
    "pycharm": {
     "name": "#%%\n"
    }
   },
   "outputs": [],
   "source": [
    "from sklearn.preprocessing import StandardScaler\n",
    "\n",
    "ss = StandardScaler()\n",
    "mars_scaled = ss.fit_transform(mars_data)"
   ]
  },
  {
   "cell_type": "markdown",
   "id": "3fa1b913-b4b6-408f-a816-766d6c085ded",
   "metadata": {
    "pycharm": {
     "name": "#%% md\n"
    }
   },
   "source": [
    "##### <span style=\"color:purple\">**Todo:** Verify the effect of standardization.</span>\n",
    "\n",
    "1. For the same 6 variables as those selected previously, draw the histrograms of their standardized counterparts, and compare with the raw observations.\n",
    "2. Represent the boxplots of all wave lengths."
   ]
  },
  {
   "cell_type": "code",
   "execution_count": null,
   "id": "eff8b2fa-76ba-4743-a950-ec14ccf91ef1",
   "metadata": {
    "pycharm": {
     "name": "#%%\n"
    }
   },
   "outputs": [],
   "source": [
    "### TO BE COMPLETED ##\n",
    "# Visualization of different wave length distributions after standard scaling\n",
    "\n",
    "[...]"
   ]
  },
  {
   "cell_type": "code",
   "execution_count": null,
   "id": "a57240db-cec6-4f04-b879-0bfa339b2eaa",
   "metadata": {
    "pycharm": {
     "name": "#%%\n"
    },
    "tags": []
   },
   "outputs": [],
   "source": [
    "# %load solutions/data/scaled_spectral_distrib.py"
   ]
  },
  {
   "cell_type": "code",
   "execution_count": null,
   "id": "de1772d7-772f-4e1b-90fc-2ca85e781002",
   "metadata": {
    "pycharm": {
     "name": "#%%\n"
    }
   },
   "outputs": [],
   "source": [
    "### TO BE COMPLETED ##\n",
    "# Visualization of different wave length distributions after standard scaling\n",
    "\n",
    "[...]"
   ]
  },
  {
   "cell_type": "code",
   "execution_count": null,
   "id": "a754fa22-4793-4163-a714-cf8cd76f638d",
   "metadata": {
    "pycharm": {
     "name": "#%%\n"
    }
   },
   "outputs": [],
   "source": [
    "# %load solutions/data/compare_spectral_distrib.py"
   ]
  },
  {
   "cell_type": "code",
   "execution_count": null,
   "id": "3c259015-440b-4841-b80d-7ad5707fbbc7",
   "metadata": {
    "pycharm": {
     "name": "#%%\n"
    }
   },
   "outputs": [],
   "source": [
    "### TO BE COMPLETED ##\n",
    "# Box plots of all scaled variables\n",
    "\n",
    "[...]"
   ]
  },
  {
   "cell_type": "code",
   "execution_count": null,
   "id": "de1bff44-51bb-4a25-9801-2663fa05297a",
   "metadata": {
    "pycharm": {
     "name": "#%%\n"
    }
   },
   "outputs": [],
   "source": [
    "# %load solutions/data/scaled_bp.py"
   ]
  },
  {
   "cell_type": "markdown",
   "id": "57abb88e-1d1a-4974-bc09-ffcd78f7a553",
   "metadata": {
    "pycharm": {
     "name": "#%% md\n"
    }
   },
   "source": [
    "<span style=\"color:teal \">[Solution]</span>\n",
    "\n",
    "<!--  **Interpretations**: Data are now centered around zero with a spread (standard deviation) of one. -->"
   ]
  },
  {
   "cell_type": "markdown",
   "id": "aa867370",
   "metadata": {
    "pycharm": {
     "name": "#%% md\n"
    }
   },
   "source": [
    "### Dimension reduction by Principal Component Analysis (PCA)"
   ]
  },
  {
   "cell_type": "code",
   "execution_count": null,
   "id": "58132786",
   "metadata": {
    "pycharm": {
     "name": "#%%\n"
    }
   },
   "outputs": [],
   "source": [
    "from sklearn.decomposition import PCA\n",
    "\n",
    "pca = PCA()\n",
    "mars_pca = pca.fit_transform(mars_scaled)"
   ]
  },
  {
   "cell_type": "markdown",
   "id": "49b70605-ebb7-4bb2-ae4a-57090eb1010d",
   "metadata": {
    "pycharm": {
     "name": "#%% md\n"
    }
   },
   "source": [
    "##### <span style=\"color:purple\">**Question:** How many components on the PCA should we keep?</span>\n",
    "\n",
    "<span style=\"color:gray\">[Indication]</span> \n",
    "<!-- Visualize the explained variance ratio as a function of the components. -->"
   ]
  },
  {
   "cell_type": "code",
   "execution_count": null,
   "id": "59f4c721-0870-4765-875d-e6c92b711454",
   "metadata": {
    "pycharm": {
     "name": "#%%\n"
    }
   },
   "outputs": [],
   "source": [
    "### TO BE COMPLETED ##\n",
    "\n",
    "[...]"
   ]
  },
  {
   "cell_type": "code",
   "execution_count": null,
   "id": "d01d15d8",
   "metadata": {
    "pycharm": {
     "name": "#%%\n"
    }
   },
   "outputs": [],
   "source": [
    "# %load solutions/pca/pca_components.py"
   ]
  },
  {
   "cell_type": "markdown",
   "id": "afe4acfd",
   "metadata": {
    "pycharm": {
     "name": "#%% md\n"
    }
   },
   "source": [
    "<span style=\"color:teal \">[Solution]</span>\n",
    "\n",
    "<!-- **Interpretation**: The first three PCA components appear to be explaining most ($86\\%$) of the variance in the data. -->"
   ]
  },
  {
   "cell_type": "markdown",
   "id": "e4643b24-8d66-494c-8425-ba2e17406556",
   "metadata": {
    "pycharm": {
     "name": "#%% md\n"
    }
   },
   "source": [
    "##### <span style=\"color:purple\">**Todo:** Visualize the dispersion of the observations on the 10-th first components of the PCA.</span>\n",
    "\n",
    "<span style=\"color:gray\">[Indication]</span> \n",
    "<!-- Display the boxplot of the 10-th first components of the PCA. -->"
   ]
  },
  {
   "cell_type": "code",
   "execution_count": null,
   "id": "5aab3115-51ac-4c7a-8478-7224806d5865",
   "metadata": {
    "pycharm": {
     "name": "#%%\n"
    }
   },
   "outputs": [],
   "source": [
    "### TO BE COMPLETED ##\n",
    "\n",
    "[...]"
   ]
  },
  {
   "cell_type": "code",
   "execution_count": null,
   "id": "03b8d26b-a2da-4188-bab2-4f4fab257cec",
   "metadata": {
    "pycharm": {
     "name": "#%%\n"
    }
   },
   "outputs": [],
   "source": [
    "# %load solutions/pca/pca_bp.py"
   ]
  },
  {
   "cell_type": "markdown",
   "id": "15ef4729",
   "metadata": {
    "pycharm": {
     "name": "#%% md\n"
    }
   },
   "source": [
    "#### Variable factor map\n"
   ]
  },
  {
   "cell_type": "code",
   "execution_count": null,
   "id": "4290cb31",
   "metadata": {
    "pycharm": {
     "name": "#%%\n"
    }
   },
   "outputs": [],
   "source": [
    "coord1 = pca.components_[0] * np.sqrt(pca.explained_variance_[0])\n",
    "coord2 = pca.components_[1] * np.sqrt(pca.explained_variance_[1])\n",
    "\n",
    "fig = plt.figure(figsize=(8, 8))\n",
    "ax = fig.add_subplot(1, 1, 1)\n",
    "for i, j, nom in zip(coord1, coord2, mars.columns):\n",
    "    plt.text(i, j, nom, fontsize=10)\n",
    "    plt.arrow(0, 0, i, j, color = 'purple', width = 0.0001)\n",
    "\n",
    "plt.axis((-1, 1, -1, 1))\n",
    "plt.gcf().gca().add_artist(plt.Circle((0, 0), radius = 1, color = 'cornflowerblue', fill = False))\n",
    "\n",
    "plt.title('Variables factor map - PCA')\n",
    "plt.show()"
   ]
  },
  {
   "cell_type": "markdown",
   "id": "feab3742-6c9c-44a1-b855-3ceb42561c22",
   "metadata": {
    "pycharm": {
     "name": "#%% md\n"
    }
   },
   "source": [
    "##### <span style=\"color:purple\">**Todo:** Comment the above figure.</span>"
   ]
  },
  {
   "cell_type": "markdown",
   "id": "3119be95",
   "metadata": {
    "pycharm": {
     "name": "#%% md\n"
    }
   },
   "source": [
    "<span style=\"color:teal \">[Solution]</span>\n",
    "\n",
    "<!-- **Interpretation**: \n",
    "* Most of the wave lengths have projection on the first two PCA dimensions with norm 1.\n",
    "* Most of them are represented entirely by component 1, other entirely by component 2.\n",
    "* Some isolated wave lengths are not well represented in the first two PCA dimensions. -->"
   ]
  },
  {
   "cell_type": "markdown",
   "id": "26955b8b",
   "metadata": {
    "pycharm": {
     "name": "#%% md\n"
    }
   },
   "source": [
    "#### Individual factor maps"
   ]
  },
  {
   "cell_type": "code",
   "execution_count": null,
   "id": "9005489b",
   "metadata": {
    "pycharm": {
     "name": "#%%\n"
    }
   },
   "outputs": [],
   "source": [
    "plt.figure(figsize=(8,8))\n",
    "plt.scatter(mars_pca[:, 0], mars_pca[:, 1], s=1, linewidths=1)\n",
    "plt.title(\"Individuals factor map - PCA\")\n",
    "plt.show()"
   ]
  },
  {
   "cell_type": "markdown",
   "id": "20dbe9ef-b065-4ab1-8dbd-7d2b5a0ce5c5",
   "metadata": {
    "pycharm": {
     "name": "#%% md\n"
    }
   },
   "source": [
    "##### <span style=\"color:purple\">**Question:** Does a six-class clustering - as suggested by the experts - seem appropriate to you?</span>"
   ]
  },
  {
   "cell_type": "markdown",
   "id": "efe72fd5",
   "metadata": {
    "pycharm": {
     "name": "#%% md\n"
    }
   },
   "source": [
    "<span style=\"color:teal \">[Solution]</span>\n",
    "\n",
    "<!-- **Interpretations**: It is difficult to distinguish visually the six groups identified by the geologists...\n",
    "Maybe two or three groups. Difficult to conclude without further analysis. -->"
   ]
  },
  {
   "cell_type": "markdown",
   "id": "5b7dcebc-3f3b-40b2-8c73-359cb2bbd456",
   "metadata": {
    "pycharm": {
     "name": "#%% md\n"
    }
   },
   "source": [
    "#### Biplot\n",
    "\n",
    "The following function is used to obtain the biplot associated with the PCA."
   ]
  },
  {
   "cell_type": "code",
   "execution_count": null,
   "id": "603f65e1-fbb8-4dd1-8764-f213071cbe43",
   "metadata": {
    "pycharm": {
     "name": "#%%\n"
    }
   },
   "outputs": [],
   "source": [
    "def biPlot(scores, coords, labels=None):\n",
    "    '''\n",
    "    Inputs:\n",
    "        scores: coordinates of the projected data\n",
    "        coord: coordinates of the features, i.e. eigenvectors (PCs)\n",
    "        labels: the class labels\n",
    "    '''    \n",
    "    xs = scores[:,0] # projection on PC1\n",
    "    ys = scores[:,1] # projection on PC2\n",
    "    n = coords.shape[0] # number of variables\n",
    "    scalex = 1.0/(xs.max() - xs.min())\n",
    "    scaley = 1.0/(ys.max() - ys.min())\n",
    "    \n",
    "    plt.figure(figsize=(10,8), dpi=100)\n",
    "    plt.scatter(xs * scalex, ys * scaley, c = labels, s = 1, alpha = .3)\n",
    "    \n",
    "    for i in range(n):\n",
    "        # plot as arrows the variable scores (each variable has a score for PC1 and one for PC2)\n",
    "        plt.arrow(0, 0, coords[i,0], coords[i,1], color = 'k', alpha = 1, linestyle = '-', linewidth = 2, overhang=0.2)\n",
    "        if labels is None:\n",
    "            plt.text(coords[i,0]* 1.15, coords[i,1] * 1.15, \"Var\"+str(i+1), color = 'seagreen', ha = 'center', va = 'center')\n",
    "        else:\n",
    "            plt.text(coords[i,0]* 1.15, coords[i,1] * 1.15, labels[i], color = 'seagreen', ha = 'center', va = 'center')\n",
    "\n",
    "    plt.xlim(-1,1)\n",
    "    plt.ylim(-1,1)\n",
    "    plt.xlabel(\"PC{}\".format(1))\n",
    "    plt.ylabel(\"PC{}\".format(2))\n",
    "    plt.grid()\n",
    "    plt.tick_params(axis='both', which='both')  #labelsize=14"
   ]
  },
  {
   "cell_type": "code",
   "execution_count": null,
   "id": "3c8f2356-600c-4b45-a5ca-bafdc6997a74",
   "metadata": {
    "pycharm": {
     "name": "#%%\n"
    }
   },
   "outputs": [],
   "source": [
    "loadings = pca.components_[:2].transpose()\n",
    "coords = loadings*np.sqrt(pca.explained_variance_).reshape(-1,1)\n",
    "\n",
    "biPlot(mars_pca[:,:2],coords[:3])\n",
    "plt.show()"
   ]
  },
  {
   "cell_type": "markdown",
   "id": "914979de",
   "metadata": {
    "pycharm": {
     "name": "#%% md\n"
    }
   },
   "source": [
    "For the end of the tutorial, we will restrict ourselves to the first 3 principal components. "
   ]
  },
  {
   "cell_type": "code",
   "execution_count": null,
   "id": "f04b7c35",
   "metadata": {
    "pycharm": {
     "name": "#%%\n"
    }
   },
   "outputs": [],
   "source": [
    "mars_reduced = mars_pca[:,:3]"
   ]
  },
  {
   "cell_type": "markdown",
   "id": "25c25c3a",
   "metadata": {
    "pycharm": {
     "name": "#%% md\n"
    }
   },
   "source": [
    "## Unsupervised classifications and Image segmentation\n",
    "\n",
    "The goal of this section is to perform a clustering on the spectral data in order to segment the image: each class found will correspond to a geographical area in the image. In particular, we will color the image according to the classification found from now on."
   ]
  },
  {
   "cell_type": "code",
   "execution_count": null,
   "id": "18c789c6-7426-486d-81d5-d7282c1b4500",
   "metadata": {
    "pycharm": {
     "name": "#%%\n"
    }
   },
   "outputs": [],
   "source": [
    "from sklearn.cluster import KMeans\n",
    "from sklearn.metrics import silhouette_score\n",
    "from matplotlib import colors\n",
    "\n",
    "from yellowbrick.cluster import KElbowVisualizer, SilhouetteVisualizer"
   ]
  },
  {
   "cell_type": "markdown",
   "id": "d1b8020d",
   "metadata": {
    "pycharm": {
     "name": "#%% md\n"
    }
   },
   "source": [
    "### Classification by dynamic reallocation: $k$-means\n",
    "\n",
    "We will compare two strategies: the classification of pixels characterized by the first three components of the PCA, then by the full spectrum."
   ]
  },
  {
   "cell_type": "markdown",
   "id": "aaec9ce2",
   "metadata": {
    "pycharm": {
     "name": "#%% md\n"
    }
   },
   "source": [
    "#### $k$-means on PCA reduced data\n",
    "\n",
    "**Caution**: The reduction of dimension operated by PCA induces properties that may or may not be interesting. In the present case, restricting oneself to the first three components acts as a denoising or low pass filter because the eigenfunctions associated with the small eigenvalues are particularly noisy. This can be useful in this case but can be detrimental in other circumstances; in particular when class or group separations are to be sought in directions associated with small variances. The choice of the distance between objects, here curves, is in any case fundamental.\n",
    "\n",
    "The graphs linked to PCA suggest keeping three components, which we will do. It is possible to keep more."
   ]
  },
  {
   "cell_type": "markdown",
   "id": "5cbc341d-927e-4d13-a2a9-c67c958a6f68",
   "metadata": {
    "pycharm": {
     "name": "#%% md\n"
    }
   },
   "source": [
    "##### <span style=\"color:purple\">**Todo:** Perform a classification by the $k$-means alogorithm while setting the number of classes to 6, as suggested in the literature.</span>\n",
    "\n",
    "Draw a histrogram of the obtained classification to see if the classes are globally balanced, or not, with this segmentation."
   ]
  },
  {
   "cell_type": "code",
   "execution_count": null,
   "id": "a77ad0b3-8bbe-4029-948c-23575f14eaae",
   "metadata": {
    "pycharm": {
     "name": "#%%\n"
    }
   },
   "outputs": [],
   "source": [
    "### TO BE COMPLETED ##\n",
    "\n",
    "[...]"
   ]
  },
  {
   "cell_type": "code",
   "execution_count": null,
   "id": "b2e92da5",
   "metadata": {
    "pycharm": {
     "name": "#%%\n"
    }
   },
   "outputs": [],
   "source": [
    "# %load solutions/kmeans/kmeans_hist.py"
   ]
  },
  {
   "cell_type": "markdown",
   "id": "4a825e1f",
   "metadata": {
    "pycharm": {
     "name": "#%% md\n"
    }
   },
   "source": [
    "##### <span style=\"color:purple\">**Todo:** Display the results on individual factor map.</span>\n",
    "\n",
    "Display the individual factor map with the points colored according to their membership in the class found by $k$-means."
   ]
  },
  {
   "cell_type": "code",
   "execution_count": null,
   "id": "3b698183-1b14-4915-b4e7-9f8c420965eb",
   "metadata": {
    "pycharm": {
     "name": "#%%\n"
    }
   },
   "outputs": [],
   "source": [
    "### TO BE COMPLETED ##\n",
    "\n",
    "[...]"
   ]
  },
  {
   "cell_type": "code",
   "execution_count": null,
   "id": "6500d1f0",
   "metadata": {
    "pycharm": {
     "name": "#%%\n"
    }
   },
   "outputs": [],
   "source": [
    "# %load solutions/kmeans/kmeans_acp.py"
   ]
  },
  {
   "cell_type": "markdown",
   "id": "73e7aa0d",
   "metadata": {
    "pycharm": {
     "name": "#%% md\n"
    }
   },
   "source": [
    "##### <span style=\"color:purple\">**Todo:** Display the image of MARS geological composition found by clustering.</span>\n",
    "\n",
    "Represent the Mars image, with the pixels colored according to their membership to the classes found by $k$-means."
   ]
  },
  {
   "cell_type": "code",
   "execution_count": null,
   "id": "f566286b-49d8-453a-acfd-b998ea4820ed",
   "metadata": {
    "pycharm": {
     "name": "#%%\n"
    }
   },
   "outputs": [],
   "source": [
    "### TO BE COMPLETED ##\n",
    "\n",
    "[...]"
   ]
  },
  {
   "cell_type": "code",
   "execution_count": null,
   "id": "12093013",
   "metadata": {
    "pycharm": {
     "name": "#%%\n"
    }
   },
   "outputs": [],
   "source": [
    "# %load solutions/kmeans/kmeans_img.py"
   ]
  },
  {
   "cell_type": "markdown",
   "id": "42036349",
   "metadata": {
    "pycharm": {
     "name": "#%% md\n"
    }
   },
   "source": [
    "##### <span style=\"color:purple\">**Todo:** Display the curve representing the wave lengths of the centroids</span>\n",
    "\n",
    "For each centroid of the classification, plot its mean spectral value."
   ]
  },
  {
   "cell_type": "code",
   "execution_count": null,
   "id": "a7750d52-cb7a-4003-834b-289ea432e249",
   "metadata": {
    "pycharm": {
     "name": "#%%\n"
    }
   },
   "outputs": [],
   "source": [
    "### TO BE COMPLETED ##\n",
    "\n",
    "[...]"
   ]
  },
  {
   "cell_type": "code",
   "execution_count": null,
   "id": "f1ceca9a",
   "metadata": {
    "pycharm": {
     "name": "#%%\n"
    }
   },
   "outputs": [],
   "source": [
    "# %load solutions/kmeans/kmeans_centroids.py"
   ]
  },
  {
   "cell_type": "markdown",
   "id": "cf33e44d-e3b0-4d3a-a559-a42032e816a2",
   "metadata": {
    "pycharm": {
     "name": "#%% md\n"
    }
   },
   "source": [
    "#### Selection of the number of clusters\n",
    "\n",
    "For the moment, based on theoretical knowledge, we have imposed a cluster number of 6. We will now try to find the otpimal number of clusters, without any prior knowledge."
   ]
  },
  {
   "cell_type": "markdown",
   "id": "796ccb9d-0c5c-4a9b-a6e9-d752b26d05be",
   "metadata": {
    "pycharm": {
     "name": "#%% md\n"
    }
   },
   "source": [
    "##### <span style=\"color:purple\">**Todo:** Determine the number of clusters using the elbow method.</span>"
   ]
  },
  {
   "cell_type": "code",
   "execution_count": null,
   "id": "de50dd68-9018-47e5-8370-5b6c15263663",
   "metadata": {
    "pycharm": {
     "name": "#%%\n"
    }
   },
   "outputs": [],
   "source": [
    "### TO BE COMPLETED ##\n",
    "\n",
    "[...]"
   ]
  },
  {
   "cell_type": "code",
   "execution_count": null,
   "id": "8b75bd67-c564-4d56-b124-6f87f90587e3",
   "metadata": {
    "pycharm": {
     "name": "#%%\n"
    }
   },
   "outputs": [],
   "source": [
    "# %load solutions/kmeans/kmeans_elbow.py"
   ]
  },
  {
   "cell_type": "markdown",
   "id": "1470a547",
   "metadata": {
    "pycharm": {
     "name": "#%% md\n"
    }
   },
   "source": [
    "<span style=\"color:teal \">[Solution]</span>\n",
    "\n",
    "<!-- **Interpretations**: Difficult to conclude with the elbow method. However, 6 clusters seem slightly more appropriate than the rest. -->"
   ]
  },
  {
   "cell_type": "markdown",
   "id": "00c0cd05-607b-4b18-9e89-f8a6a5297b87",
   "metadata": {
    "pycharm": {
     "name": "#%% md\n"
    }
   },
   "source": [
    "##### <span style=\"color:purple\">**Todo:** Determine the number of clusters using the silhouette scores.</span>"
   ]
  },
  {
   "cell_type": "code",
   "execution_count": null,
   "id": "8441b18f-ad95-4151-93b8-f4e864597330",
   "metadata": {
    "pycharm": {
     "name": "#%%\n"
    }
   },
   "outputs": [],
   "source": [
    "### TO BE COMPLETED ### \n",
    "\n",
    "[...]"
   ]
  },
  {
   "cell_type": "code",
   "execution_count": null,
   "id": "e55ca8dd-f81e-4da6-92f2-71a27fc82fa7",
   "metadata": {
    "pycharm": {
     "name": "#%%\n"
    }
   },
   "outputs": [],
   "source": [
    "# %load solutions/kmeans/kmeans_silhouette.py"
   ]
  },
  {
   "cell_type": "markdown",
   "id": "4e940f44-af5e-4560-ab11-6437bd6a7546",
   "metadata": {
    "pycharm": {
     "name": "#%% md\n"
    }
   },
   "source": [
    "<span style=\"color:teal \">[Solution]</span>\n",
    "\n",
    "<!-- **Interpretations**: The 2 and 6 class partioning seem to provide equally good results. -->"
   ]
  },
  {
   "cell_type": "markdown",
   "id": "528c1f04-b2af-4170-9792-340822c365a6",
   "metadata": {
    "pycharm": {
     "name": "#%% md\n"
    }
   },
   "source": [
    "##### <span style=\"color:purple\">**Todo:** Represent the geological composition of Mars for 2 classes.</span>"
   ]
  },
  {
   "cell_type": "code",
   "execution_count": null,
   "id": "180baf55-dc9d-42a7-8e84-d8e0eccb2e4f",
   "metadata": {
    "pycharm": {
     "name": "#%%\n"
    }
   },
   "outputs": [],
   "source": [
    "### TO BE COMPLETED ### \n",
    "# K = 2\n",
    "\n",
    "[...]"
   ]
  },
  {
   "cell_type": "code",
   "execution_count": null,
   "id": "bcb94c5e-62a0-4c27-a62e-30a19ee6271b",
   "metadata": {
    "pycharm": {
     "name": "#%%\n"
    }
   },
   "outputs": [],
   "source": [
    "# %load solutions/kmeans/kmeans_2classes.py"
   ]
  },
  {
   "cell_type": "markdown",
   "id": "6a6f785c",
   "metadata": {
    "pycharm": {
     "name": "#%% md\n"
    }
   },
   "source": [
    "#### $k$-means on the complete data \n",
    "\n",
    "We choose 6 clusters to match the literature. "
   ]
  },
  {
   "cell_type": "markdown",
   "id": "03567aa1-48cc-4176-bdb4-fc3ad3a54097",
   "metadata": {
    "pycharm": {
     "name": "#%% md\n"
    }
   },
   "source": [
    "##### <span style=\"color:purple\">**Todo:** Represent the geological composition of Mars for six classes, using the complete data.</span>"
   ]
  },
  {
   "cell_type": "code",
   "execution_count": null,
   "id": "6be843b6-dc1a-4aa8-b7bd-a8c1734a1ba2",
   "metadata": {
    "pycharm": {
     "name": "#%%\n"
    }
   },
   "outputs": [],
   "source": [
    "### TO BE COMPLETED ### \n",
    "\n",
    "[...]"
   ]
  },
  {
   "cell_type": "code",
   "execution_count": null,
   "id": "9f9ea693",
   "metadata": {
    "pycharm": {
     "name": "#%%\n"
    }
   },
   "outputs": [],
   "source": [
    "# %load solutions/kmeans/kmeans_complete.py"
   ]
  },
  {
   "cell_type": "markdown",
   "id": "a4d03501-4e20-4631-903b-0ae95c67c255",
   "metadata": {
    "pycharm": {
     "name": "#%% md\n"
    }
   },
   "source": [
    "### Comparison of the results"
   ]
  },
  {
   "cell_type": "markdown",
   "id": "f3954b9f-66e2-40c6-8ab0-47c3f7a0a4de",
   "metadata": {
    "pycharm": {
     "name": "#%% md\n"
    }
   },
   "source": [
    "##### <span style=\"color:purple\">**Todo:** Visualize side by side the geological image of Mars obtained on the reduced data and on the complete data.</span>\n",
    "\n",
    "Comment on it."
   ]
  },
  {
   "cell_type": "code",
   "execution_count": null,
   "id": "cc1fc1b8-73f7-4441-a440-8d76e238923e",
   "metadata": {
    "pycharm": {
     "name": "#%%\n"
    }
   },
   "outputs": [],
   "source": [
    "### TO BE COMPLETED ### \n",
    "\n",
    "[...]"
   ]
  },
  {
   "cell_type": "code",
   "execution_count": null,
   "id": "72993098-b25d-40dc-b284-b6b4d0215123",
   "metadata": {
    "pycharm": {
     "name": "#%%\n"
    }
   },
   "outputs": [],
   "source": [
    "# %load solutions/kmeans/kmeans_compare.py"
   ]
  },
  {
   "cell_type": "markdown",
   "id": "e615343e-7200-4ad4-a8be-bec9a8662ccf",
   "metadata": {
    "pycharm": {
     "name": "#%% md\n"
    }
   },
   "source": [
    "<span style=\"color:teal \">[Solution]</span>\n",
    "\n",
    "<!-- **Interpretations**: The comparison of the two classifications is not immediate because the classes do not have the same number. -->"
   ]
  },
  {
   "cell_type": "code",
   "execution_count": null,
   "id": "88ec0ae5-e34b-4142-bdb8-748ddfb0ac72",
   "metadata": {
    "pycharm": {
     "name": "#%%\n"
    }
   },
   "outputs": [],
   "source": [
    "from sklearn.metrics import confusion_matrix, ConfusionMatrixDisplay\n",
    "\n",
    "ConfusionMatrixDisplay(confusion_matrix(clusters_full, clusters_pca)).plot()\n",
    "plt.xlabel('On the reduced data (PCA)')\n",
    "plt.ylabel('On the complete data')\n",
    "plt.show()"
   ]
  },
  {
   "cell_type": "markdown",
   "id": "5475def8-19f4-48b5-b461-c81882333da9",
   "metadata": {
    "pycharm": {
     "name": "#%% md\n"
    }
   },
   "source": [
    "##### <span style=\"color:purple\">**Todo:** Write a function `matchClasses`that reorders the classes found in the two classifications so that they match.</span>\n",
    "\n",
    "You may start from the confusion matrix of the two classifications and try to place its maximal elements on its diagonal. This function should return the rearranged confusion matrix and the associated class indices for each point of the dataset."
   ]
  },
  {
   "cell_type": "code",
   "execution_count": null,
   "id": "dccf914b-81b0-4e88-be14-4e2875f0341f",
   "metadata": {
    "pycharm": {
     "name": "#%%\n"
    }
   },
   "outputs": [],
   "source": [
    "### TO BE COMPLETED ### \n",
    "\n",
    "def matchClasses(classif1, classif2):\n",
    "    [...]"
   ]
  },
  {
   "cell_type": "code",
   "execution_count": null,
   "id": "16e997ed-af92-450e-9217-f7e97dc11ce6",
   "metadata": {
    "pycharm": {
     "name": "#%%\n"
    }
   },
   "outputs": [],
   "source": [
    "# %load solutions/kmeans/matchClasses.py"
   ]
  },
  {
   "cell_type": "code",
   "execution_count": null,
   "id": "b28c2d45-d69d-416b-b9e2-a21a8da1885a",
   "metadata": {
    "pycharm": {
     "name": "#%%\n"
    }
   },
   "outputs": [],
   "source": [
    "cm, clusters_pca_sorted = matchClasses(clusters_full, clusters_pca)\n",
    "\n",
    "ConfusionMatrixDisplay(cm).plot()\n",
    "plt.xlabel('On the reduced data (PCA)')\n",
    "plt.ylabel('On the complete data')\n",
    "plt.show()"
   ]
  },
  {
   "cell_type": "code",
   "execution_count": null,
   "id": "5f9de8ca-2548-41d1-895c-25b80fbef3ad",
   "metadata": {
    "pycharm": {
     "name": "#%%\n"
    }
   },
   "outputs": [],
   "source": [
    "K = 6\n",
    "n_pixel_x = 300\n",
    "n_pixel_y = 128\n",
    "\n",
    "cmap = plt.get_cmap('Set3', K)\n",
    "\n",
    "# --- #\n",
    "\n",
    "mars_image_pca_sorted = clusters_pca_sorted.reshape((n_pixel_x, n_pixel_y))\n",
    "mars_image_full = clusters_full.reshape((n_pixel_x, n_pixel_y))\n",
    "\n",
    "# -- #\n",
    "\n",
    "plt.subplot(1,2,1)\n",
    "plt.imshow(mars_image_pca_sorted, interpolation=\"nearest\", aspect=\"auto\", cmap=cmap)\n",
    "plt.title(\"On the reduced data (PCA)\")\n",
    "\n",
    "plt.subplot(1,2,2)\n",
    "plt.imshow(mars_image_full, interpolation=\"nearest\", aspect=\"auto\", cmap=cmap)\n",
    "plt.title(\"On the complete data\")\n",
    "\n",
    "plt.tight_layout()\n",
    "plt.show()"
   ]
  },
  {
   "cell_type": "markdown",
   "id": "1907d42e-32e5-4927-b45f-6b9e3fe6c8b9",
   "metadata": {
    "pycharm": {
     "name": "#%% md\n"
    }
   },
   "source": [
    "**Interpretation**: Now the way the classes are assigned coincides and the coloring between the two images is consistent. "
   ]
  },
  {
   "cell_type": "markdown",
   "id": "310b78c9-aa49-4bb9-9c4a-463f10cd337f",
   "metadata": {
    "pycharm": {
     "name": "#%% md\n"
    }
   },
   "source": [
    "##### <span style=\"color:purple\">**Todo:** Write a function `diffPlot` to visually compare two classifications.</span>\n",
    "\n",
    "Write a function that counts the number of points classified differently between two classifications, and displays the image of Mars with these distinct points in black. We will apply it to two classifications whose classes have been previously reordered to match (via the `matchClasses` function for example).\n",
    "\n",
    "_Remark:_ To create a colormap from a numpy array, we can use the [`colors.ListedColormap`](https://matplotlib.org/stable/api/_as_gen/matplotlib.colors.ListedColormap.html) function of matplotlib."
   ]
  },
  {
   "cell_type": "code",
   "execution_count": null,
   "id": "18693f50-c810-4620-ba88-497c51b7f669",
   "metadata": {
    "pycharm": {
     "name": "#%%\n"
    }
   },
   "outputs": [],
   "source": [
    "### TO BE COMPLETED ### \n",
    "\n",
    "def diffPlot(classif1, classif2):\n",
    "    [...]"
   ]
  },
  {
   "cell_type": "code",
   "execution_count": null,
   "id": "16983b35-14fb-4664-bc0e-c6b85e641adc",
   "metadata": {
    "pycharm": {
     "name": "#%%\n"
    }
   },
   "outputs": [],
   "source": [
    "# %load solutions/kmeans/diffPlot.py"
   ]
  },
  {
   "cell_type": "code",
   "execution_count": null,
   "id": "0567d0ba-b812-44b9-a442-41afe7a78dac",
   "metadata": {
    "pycharm": {
     "name": "#%%\n"
    }
   },
   "outputs": [],
   "source": [
    "diffPlot(clusters_full, clusters_pca_sorted)"
   ]
  },
  {
   "cell_type": "markdown",
   "id": "4cf30c0d-7398-4e82-aa24-a93a06cf2280",
   "metadata": {
    "pycharm": {
     "name": "#%% md\n"
    }
   },
   "source": [
    "We can also use other scores, such as the mutual information or the Fowlkes-Mallows score."
   ]
  },
  {
   "cell_type": "code",
   "execution_count": null,
   "id": "8075c617",
   "metadata": {
    "pycharm": {
     "name": "#%%\n"
    }
   },
   "outputs": [],
   "source": [
    "from sklearn.metrics import normalized_mutual_info_score, fowlkes_mallows_score\n",
    "\n",
    "similarity_nmi = normalized_mutual_info_score(clusters_full, clusters_pca)\n",
    "similarity_fm = fowlkes_mallows_score(clusters_full, clusters_pca)\n",
    "\n",
    "print(\"Normalized Mutual Information score: %f\" % similarity_nmi)\n",
    "print(\"Fowlkes Mallows score              : %f\" % similarity_fm)"
   ]
  },
  {
   "cell_type": "markdown",
   "id": "7617905b",
   "metadata": {
    "pycharm": {
     "name": "#%% md\n"
    }
   },
   "source": [
    "**Interpretation**: The scores obtained with both external metrics are high, meaning that the classifications obtained are similar with and without PCA."
   ]
  },
  {
   "cell_type": "markdown",
   "id": "2ec5fd6c",
   "metadata": {
    "pycharm": {
     "name": "#%% md\n"
    }
   },
   "source": [
    "### Agglomerative Clustering\n",
    "\n",
    "The $k$-means algorithm leads to satisfactory results. \n",
    "We will try to compare it to other classification techniques seen in class. The DBSCAN algorithm is very time consuming and, as its results are not convincing, it has been abandoned. \n",
    "\n",
    "In this section, we are interested in the hierarchical ascending classification (CAH). "
   ]
  },
  {
   "cell_type": "code",
   "execution_count": null,
   "id": "221c6b4e-afbd-4209-b919-e3fc22c6b71a",
   "metadata": {
    "pycharm": {
     "name": "#%%\n"
    }
   },
   "outputs": [],
   "source": [
    "from sklearn.cluster import AgglomerativeClustering\n",
    "import scipy.cluster.hierarchy as sch"
   ]
  },
  {
   "cell_type": "markdown",
   "id": "7b1d2883-837e-462a-ad7e-0a2774827fda",
   "metadata": {
    "pycharm": {
     "name": "#%% md\n"
    }
   },
   "source": [
    "#### CAH on a sub-sample\n",
    "\n",
    "The CAH method is much more time consuming than the $k$-means algorithm. Therefore, we will first focus on a sub-sample to allow easier debugging (if needed!)."
   ]
  },
  {
   "cell_type": "code",
   "execution_count": null,
   "id": "fe9f762c-f202-4f13-ae11-b642352131ef",
   "metadata": {
    "pycharm": {
     "name": "#%%\n"
    }
   },
   "outputs": [],
   "source": [
    "mars_reduced_samples = mars_reduced[::10]\n",
    "\n",
    "print(\"mars data full sample size:\", mars_reduced.shape)\n",
    "print(\"mars data sub-sample size :\", mars_reduced_samples.shape)"
   ]
  },
  {
   "cell_type": "markdown",
   "id": "9b2c0ad6-5404-4c7a-a26b-5fb6e7aa17a2",
   "metadata": {
    "pycharm": {
     "name": "#%% md\n"
    }
   },
   "source": [
    "##### <span style=\"color:purple\">**Todo:** Determine the number of clusters using the elbow method.</span>\n",
    "\n",
    "Special attention will be paid to the first point. In the first instance, a Ward linkage can be used."
   ]
  },
  {
   "cell_type": "code",
   "execution_count": null,
   "id": "bb3517e9-a744-4c74-aa27-09dcd5129c11",
   "metadata": {
    "pycharm": {
     "name": "#%%\n"
    }
   },
   "outputs": [],
   "source": [
    "### TO BE COMPLETED ### \n",
    "\n",
    "[...]"
   ]
  },
  {
   "cell_type": "code",
   "execution_count": null,
   "id": "b4b499b5-331b-4600-a9b7-8393588619c4",
   "metadata": {
    "pycharm": {
     "name": "#%%\n"
    }
   },
   "outputs": [],
   "source": [
    "# %load solutions/ac/ac_elbow1.py"
   ]
  },
  {
   "cell_type": "markdown",
   "id": "9608cbd1-209b-4cce-82f1-355ff4bfea2d",
   "metadata": {
    "pycharm": {
     "name": "#%% md\n"
    }
   },
   "source": [
    "<span style=\"color:teal \">[Solution]</span>\n",
    "\n",
    "<!-- **Interpretations**: In this plot, the first point is much higher than the other, making the $y$-scale of all the interesting points too small and making it hard to discover the elbow.\n",
    "$\\implies$ Remove the first point. -->"
   ]
  },
  {
   "cell_type": "code",
   "execution_count": null,
   "id": "866ae33c",
   "metadata": {
    "pycharm": {
     "name": "#%%\n"
    }
   },
   "outputs": [],
   "source": [
    "# %load solutions/ac/ac_elbow2.py"
   ]
  },
  {
   "cell_type": "markdown",
   "id": "b27177bb-db40-4a74-b65a-e5952b778c7a",
   "metadata": {
    "pycharm": {
     "name": "#%% md\n"
    }
   },
   "source": [
    "<span style=\"color:teal \">[Solution]</span>\n",
    "\n",
    "<!-- **Interpretations**: In these plots, either three or five appear to be a smart choice for the number of clusters. It does not allow us to decide precisely what is the right number (maybe it does not even exist). However, it gives us the right range compared to what experts said (not 20, not 100). \n",
    "\n",
    "To remain consistent with the literature, we choose $K=6$ classes. -->"
   ]
  },
  {
   "cell_type": "markdown",
   "id": "cb9a55db-e1f8-40f5-b1b0-65c4d16b49fa",
   "metadata": {
    "pycharm": {
     "name": "#%% md\n"
    }
   },
   "source": [
    "We could also have used the vizualizer of the `yellowstone` package."
   ]
  },
  {
   "cell_type": "code",
   "execution_count": null,
   "id": "9bfe0452-5f04-4f66-aca9-6e005fd8004e",
   "metadata": {
    "pycharm": {
     "name": "#%%\n"
    }
   },
   "outputs": [],
   "source": [
    "ac = AgglomerativeClustering(linkage=\"ward\", compute_distances=True)\n",
    "visualizer = KElbowVisualizer(ac, k=(4,12))\n",
    "\n",
    "visualizer.fit(mars_reduced_samples)        # Fit the data to the visualizer\n",
    "visualizer.show()   \n",
    "\n",
    "plt.show()"
   ]
  },
  {
   "cell_type": "markdown",
   "id": "bf800885-a658-41e0-88c0-d0473e96b8a5",
   "metadata": {
    "pycharm": {
     "name": "#%% md\n"
    }
   },
   "source": [
    "##### <span style=\"color:purple\">**Todo:** Visualize the dendrogram associated to the reduced data set.</span>"
   ]
  },
  {
   "cell_type": "code",
   "execution_count": null,
   "id": "9d2e900e-2991-4da9-ba38-5d568bc9e51c",
   "metadata": {
    "pycharm": {
     "name": "#%%\n"
    }
   },
   "outputs": [],
   "source": [
    "### TO BE COMPLETED ### \n",
    "\n",
    "[...]"
   ]
  },
  {
   "cell_type": "code",
   "execution_count": null,
   "id": "8600a29e-89e7-4a11-99b0-808a264ceb3f",
   "metadata": {
    "pycharm": {
     "name": "#%%\n"
    }
   },
   "outputs": [],
   "source": [
    "# %load solutions/ac/ac_dendrogram.py"
   ]
  },
  {
   "cell_type": "markdown",
   "id": "edae2370-5e57-44da-8da7-78e90dfa9380",
   "metadata": {
    "pycharm": {
     "name": "#%% md\n"
    }
   },
   "source": [
    "##### <span style=\"color:purple\">**Todo:** Evaluate the effect of the choice of the linkage function.</span>\n",
    "\n",
    "You may represent the dendrogram for each type of linkage. This can be done by further reducing the size of the dataset."
   ]
  },
  {
   "cell_type": "code",
   "execution_count": null,
   "id": "56549f48-b041-4932-b069-833e286370ae",
   "metadata": {
    "pycharm": {
     "name": "#%%\n"
    }
   },
   "outputs": [],
   "source": [
    "mars_reduced2_samples = mars_reduced[::100]\n",
    "\n",
    "print(\"mars data full sample size:\", mars_reduced.shape)\n",
    "print(\"mars data sub-sample size :\", mars_reduced2_samples.shape)"
   ]
  },
  {
   "cell_type": "code",
   "execution_count": null,
   "id": "f2671d50-1e8e-44b9-83f1-ac086b62fdd9",
   "metadata": {
    "pycharm": {
     "name": "#%%\n"
    }
   },
   "outputs": [],
   "source": [
    "### TO BE COMPLETED ### \n",
    "\n",
    "[...]"
   ]
  },
  {
   "cell_type": "code",
   "execution_count": null,
   "id": "838e2b48-7386-4239-81c4-aa09edad60db",
   "metadata": {
    "pycharm": {
     "name": "#%%\n"
    }
   },
   "outputs": [],
   "source": [
    "# %load solutions/ac/ac_linkage.py"
   ]
  },
  {
   "cell_type": "markdown",
   "id": "53314ab4",
   "metadata": {
    "pycharm": {
     "name": "#%% md\n"
    }
   },
   "source": [
    "#### Visualize agglomerative clustering"
   ]
  },
  {
   "cell_type": "markdown",
   "id": "44bbf1fe-4446-41b1-b859-f3f18670159b",
   "metadata": {
    "pycharm": {
     "name": "#%% md\n"
    }
   },
   "source": [
    "##### <span style=\"color:purple\">**Todo:** Display the reduced data set, colored according to the classes found by CAH.</span>\n",
    "\n",
    "You may plot the scatterplot composed of the first two components of this reduced data set. You can choose to work either on the subsample defined at the beginning of this section, or on the complete data set."
   ]
  },
  {
   "cell_type": "code",
   "execution_count": null,
   "id": "025dc1f1-9ae3-49ab-a9ac-7b3b589ebefc",
   "metadata": {
    "pycharm": {
     "name": "#%%\n"
    }
   },
   "outputs": [],
   "source": [
    "### TO BE COMPLETED ### \n",
    "\n",
    "[...]"
   ]
  },
  {
   "cell_type": "code",
   "execution_count": null,
   "id": "72dd0f29",
   "metadata": {
    "pycharm": {
     "name": "#%%\n"
    }
   },
   "outputs": [],
   "source": [
    "# %load solutions/ac/ac_acp.py"
   ]
  },
  {
   "cell_type": "markdown",
   "id": "9b226630-48aa-4907-8cd1-28a0c4bcfb11",
   "metadata": {
    "pycharm": {
     "name": "#%% md\n"
    }
   },
   "source": [
    "**Interpretation**: As before, the classes may not have the same label, hence the color swap."
   ]
  },
  {
   "cell_type": "markdown",
   "id": "64553e42-6db6-4a00-9ea5-003b3d1122f9",
   "metadata": {
    "pycharm": {
     "name": "#%% md\n"
    }
   },
   "source": [
    "##### <span style=\"color:purple\">**Todo:** Represent the geological composition of Mars for 6 classes, using the CAH algorithm.</span>\n",
    "\n",
    "Plot side by side the scatterplot of the first two components of the reduced data set, and the reconstructed image of Mars. Color these two graphs in a consistent manner."
   ]
  },
  {
   "cell_type": "code",
   "execution_count": null,
   "id": "2626f74d-bc1e-4a7e-9b2d-e48d09ca198a",
   "metadata": {
    "pycharm": {
     "name": "#%%\n"
    }
   },
   "outputs": [],
   "source": [
    "### TO BE COMPLETED ### \n",
    "\n",
    "[...]"
   ]
  },
  {
   "cell_type": "code",
   "execution_count": null,
   "id": "2679d227-49fa-4996-8e91-c48240c16823",
   "metadata": {
    "pycharm": {
     "name": "#%%\n"
    }
   },
   "outputs": [],
   "source": [
    "# %load solutions/ac/ac_img.py"
   ]
  },
  {
   "cell_type": "markdown",
   "id": "d5d16c3d-1ece-48a3-8eca-9575af2f9a87",
   "metadata": {
    "pycharm": {
     "name": "#%% md\n"
    }
   },
   "source": [
    "## Gaussian Mixture Models"
   ]
  },
  {
   "cell_type": "code",
   "execution_count": null,
   "id": "32412456-1da2-4062-8625-2795efe1520e",
   "metadata": {
    "pycharm": {
     "name": "#%%\n"
    }
   },
   "outputs": [],
   "source": [
    "from sklearn.mixture import GaussianMixture\n",
    "from sklearn.metrics import silhouette_score "
   ]
  },
  {
   "cell_type": "markdown",
   "id": "0615a35a-057f-4e8e-95fd-dafbe0b0e6d1",
   "metadata": {
    "pycharm": {
     "name": "#%% md\n"
    }
   },
   "source": [
    "##### <span style=\"color:purple\">**Todo:** Represent the geological composition of Mars for 6 classes, using the GMM algorithm.</span>\n",
    "\n",
    "Plot side by side the scatterplot of the first two components of the reduced data set, and the reconstructed image of Mars. Color these two graphs in a consistent manner."
   ]
  },
  {
   "cell_type": "code",
   "execution_count": null,
   "id": "22f33ef6-3dc7-4373-9b1c-0149d52ddaa0",
   "metadata": {
    "pycharm": {
     "name": "#%%\n"
    }
   },
   "outputs": [],
   "source": [
    "### TO BE COMPLETED ### \n",
    "\n",
    "[...]"
   ]
  },
  {
   "cell_type": "code",
   "execution_count": null,
   "id": "aca80e1c-67de-4324-9ce0-72d6d86e1ce6",
   "metadata": {
    "pycharm": {
     "name": "#%%\n"
    }
   },
   "outputs": [],
   "source": [
    "# %load solutions/gmm/gmm_img.py"
   ]
  },
  {
   "cell_type": "markdown",
   "id": "c47ada3e-7e3f-4808-b134-de2ae22f178c",
   "metadata": {
    "pycharm": {
     "name": "#%% md\n"
    }
   },
   "source": [
    "##### <span style=\"color:purple\">**Question:** Is the BIC adapted to select the right number of clusters in our problem?</span>"
   ]
  },
  {
   "cell_type": "code",
   "execution_count": null,
   "id": "24b669ba-5f7a-4f35-808c-37f1d2adc62f",
   "metadata": {
    "pycharm": {
     "name": "#%%\n"
    }
   },
   "outputs": [],
   "source": [
    "### TO BE COMPLETED ### \n",
    "\n",
    "[...]"
   ]
  },
  {
   "cell_type": "code",
   "execution_count": null,
   "id": "982c8e78-8c17-47cd-bbe9-59fcf0aee854",
   "metadata": {
    "pycharm": {
     "name": "#%%\n"
    }
   },
   "outputs": [],
   "source": [
    "# %load solutions/gmm/gmm_bic.py"
   ]
  },
  {
   "cell_type": "markdown",
   "id": "919ac728-5ea7-4f32-9c78-3ef574cdf20a",
   "metadata": {
    "pycharm": {
     "name": "#%% md\n"
    }
   },
   "source": [
    "<span style=\"color:teal \">[Solution]</span>\n",
    "\n",
    "<!-- **Interpretation**: The penalty BIC criteria gives to complex models and do not save us from overfiting. -->"
   ]
  },
  {
   "cell_type": "markdown",
   "id": "b7315603-b38f-4933-87ea-f339d6dcaa21",
   "metadata": {
    "pycharm": {
     "name": "#%% md\n"
    }
   },
   "source": [
    "##### <span style=\"color:purple\">**Todo:** Propose an alternative method.</span>\n",
    "\n",
    "You can for instance use the silhouette score."
   ]
  },
  {
   "cell_type": "code",
   "execution_count": null,
   "id": "6bc11380-24a4-47c3-80ea-45d436cc85f1",
   "metadata": {
    "pycharm": {
     "name": "#%%\n"
    }
   },
   "outputs": [],
   "source": [
    "### TO BE COMPLETED ### \n",
    "\n",
    "[...]"
   ]
  },
  {
   "cell_type": "code",
   "execution_count": null,
   "id": "2873b8b9-7da0-428e-9af2-93ddfd3e86dd",
   "metadata": {
    "pycharm": {
     "name": "#%%\n"
    }
   },
   "outputs": [],
   "source": [
    "# %load solutions/gmm/gmm_silhouette.py"
   ]
  },
  {
   "cell_type": "markdown",
   "id": "794957df-bb04-4b12-8e46-0adeb2d30e69",
   "metadata": {
    "pycharm": {
     "name": "#%% md\n"
    }
   },
   "source": [
    "<span style=\"color:teal \">[Solution]</span>\n",
    "\n",
    "<!-- **Interpretation**: With the silhouette score, 6 clusters are selected again. -->"
   ]
  },
  {
   "cell_type": "markdown",
   "id": "97f1769f-f209-4226-83b9-04cf2d6a55d3",
   "metadata": {
    "pycharm": {
     "name": "#%% md\n"
    }
   },
   "source": [
    "## Comparison of clustering algorithms\n",
    "\n",
    "The purpose of this last section is to compare the different results we obtained previously."
   ]
  },
  {
   "cell_type": "markdown",
   "id": "cf3cbdce-3a17-452d-8582-3a1a206cba12",
   "metadata": {
    "pycharm": {
     "name": "#%% md\n"
    }
   },
   "source": [
    "### Visualize Kmeans versus GMM components"
   ]
  },
  {
   "cell_type": "code",
   "execution_count": null,
   "id": "30bfe9f6-5042-4b0c-b463-d7a0e40c7dcb",
   "metadata": {
    "pycharm": {
     "name": "#%%\n"
    }
   },
   "outputs": [],
   "source": [
    "from scipy.spatial.distance import cdist\n",
    "from matplotlib.patches import Ellipse"
   ]
  },
  {
   "cell_type": "markdown",
   "id": "7089f720-d5f0-42f3-8df1-5308469f57c0",
   "metadata": {
    "pycharm": {
     "name": "#%% md\n"
    }
   },
   "source": [
    "##### <span style=\"color:purple\">**Todo:** Write a function `plotKmeans` that draws circles around each of the clusters identified by the kmeans algorithm.</span>\n",
    "\n",
    "To do this, complete the following function. The circles must be of the same color as the points that make up the corresponding cluster."
   ]
  },
  {
   "cell_type": "code",
   "execution_count": null,
   "id": "ae788bb9-e914-482d-8e06-27d93bf1e486",
   "metadata": {
    "pycharm": {
     "name": "#%%\n"
    }
   },
   "outputs": [],
   "source": [
    "### TO BE COMPLETED ### \n",
    "\n",
    "def plotKmeans(kmeans, data, n_clusters=6):\n",
    "    kmeans.fit(...)\n",
    "    clusters_kmeans = ...\n",
    "\n",
    "    ax = plt.gca()\n",
    "    ax.axis('equal')\n",
    "    cmap = plt.get_cmap('Set3', ...)\n",
    "\n",
    "    # plot the input data\n",
    "    ax.scatter(...)\n",
    "    \n",
    "    # plot the representation of the KMeans model\n",
    "    centers = kmeans.cluster_centers_\n",
    "    radius = [cdist(data[clusters_kmeans == i], [center]).max() for i, center in enumerate(centers)]\n",
    "    for i in range(...):\n",
    "        ax.add_patch(plt.Circle(...))"
   ]
  },
  {
   "cell_type": "code",
   "execution_count": null,
   "id": "3436abeb-d676-4f9d-861f-9822262aa3f1",
   "metadata": {
    "pycharm": {
     "name": "#%%\n"
    }
   },
   "outputs": [],
   "source": [
    "# %load solutions/compare/plotKmeans.py"
   ]
  },
  {
   "cell_type": "code",
   "execution_count": null,
   "id": "71ba784a-6a06-461d-93fc-5e8cf2b1c919",
   "metadata": {
    "pycharm": {
     "name": "#%%\n"
    }
   },
   "outputs": [],
   "source": [
    "K = 6\n",
    "kmeans = KMeans(n_clusters=K)\n",
    "\n",
    "plotKmeans(kmeans, mars_reduced)"
   ]
  },
  {
   "cell_type": "markdown",
   "id": "91de4673-d76c-45a8-889d-7bb9c3f7a4a3",
   "metadata": {
    "pycharm": {
     "name": "#%% md\n"
    }
   },
   "source": [
    "The following function allows to plot an ellipse of color `col`, of center `mean` and based on the `covariance` matrix."
   ]
  },
  {
   "cell_type": "code",
   "execution_count": null,
   "id": "2b3c0027-6f0d-4ecb-a177-04d7f6a04c6d",
   "metadata": {
    "pycharm": {
     "name": "#%%\n"
    }
   },
   "outputs": [],
   "source": [
    "def draw_ellipse(mean, covariance, alpha, ax, col='#CCCCCC'):\n",
    "    \"\"\"Draw an ellipse with a given position and covariance\"\"\"    \n",
    "    # Convert covariance to principal axes\n",
    "    U, s, Vt = np.linalg.svd(covariance)\n",
    "    angle = np.degrees(np.arctan2(U[1, 0], U[0, 0]))\n",
    "    width, height = 2 * np.sqrt(s)\n",
    "\n",
    "    # Draw the Ellipse\n",
    "    ax.add_patch(Ellipse(mean, 4*width, 4*height, angle=angle, alpha=alpha, fc=col))"
   ]
  },
  {
   "cell_type": "markdown",
   "id": "d53391b7-99ed-4649-ab20-c20c32790a02",
   "metadata": {
    "pycharm": {
     "name": "#%% md\n"
    }
   },
   "source": [
    "##### <span style=\"color:purple\">**Todo:** Write a function `plotGMM` that draws ellipses around each of the clusters identified by the GMM algorithm.</span>\n",
    "\n",
    "You can freely use the previous function. The ellipses must be of the same color as the points that make up the corresponding cluster, and their opacity (`alpha`) must be related to the weight of the said cluster in the blending model."
   ]
  },
  {
   "cell_type": "code",
   "execution_count": null,
   "id": "ce719030-1a5a-4586-99e5-4b579de594cf",
   "metadata": {
    "pycharm": {
     "name": "#%%\n"
    }
   },
   "outputs": [],
   "source": [
    "### TO BE COMPLETED ### \n",
    "\n",
    "def plotGMM(gmm, data, n_clusters=6):\n",
    "    [...]"
   ]
  },
  {
   "cell_type": "code",
   "execution_count": null,
   "id": "7d03c70a-2c94-4ae7-994a-b2ff96f19618",
   "metadata": {
    "pycharm": {
     "name": "#%%\n"
    }
   },
   "outputs": [],
   "source": [
    "# %load solutions/compare/plotGMM.py"
   ]
  },
  {
   "cell_type": "code",
   "execution_count": null,
   "id": "5daed955-dfac-4630-8a7d-20a3e5d3fcca",
   "metadata": {
    "pycharm": {
     "name": "#%%\n"
    }
   },
   "outputs": [],
   "source": [
    "K = 6\n",
    "gmm = GaussianMixture(n_components=K, init_params='kmeans')\n",
    "\n",
    "plotGMM(gmm, mars_reduced)"
   ]
  },
  {
   "cell_type": "markdown",
   "id": "f391e168-3b2d-4b78-8e9a-d69361598bf2",
   "metadata": {
    "pycharm": {
     "name": "#%% md\n"
    }
   },
   "source": [
    "#### Re-indexing of clusters for better visualization\n",
    "\n",
    "As before, the clusters (moreover found by two different algorithms!) have no chance to match."
   ]
  },
  {
   "cell_type": "code",
   "execution_count": null,
   "id": "15421150-c696-4da1-bd06-50f9aa414a14",
   "metadata": {
    "pycharm": {
     "name": "#%%\n"
    }
   },
   "outputs": [],
   "source": [
    "K = 6\n",
    "n_pixel_x = 300\n",
    "n_pixel_y = 128\n",
    "\n",
    "kmeans = KMeans(n_clusters=K, n_init=10)\n",
    "clusters_kmeans = kmeans.fit_predict(mars_reduced)\n",
    "\n",
    "gmm = GaussianMixture(n_components=K, n_init=10, init_params='kmeans')\n",
    "clusters_gmm = gmm.fit_predict(mars_reduced)"
   ]
  },
  {
   "cell_type": "markdown",
   "id": "ef7d050c-84c1-4206-95b0-195b2fed9f80",
   "metadata": {
    "pycharm": {
     "name": "#%% md\n"
    }
   },
   "source": [
    "##### <span style=\"color:purple\">**Todo:** Using a previously defined function, match the classes obtained by kmeans and not GMM.</span>\n",
    "\n",
    "What do you notice?"
   ]
  },
  {
   "cell_type": "code",
   "execution_count": null,
   "id": "bc642374-36da-40f6-9de7-e00ffed96a7c",
   "metadata": {
    "pycharm": {
     "name": "#%%\n"
    }
   },
   "outputs": [],
   "source": [
    "### TO BE COMPLETED ### \n",
    "\n",
    "[...]"
   ]
  },
  {
   "cell_type": "code",
   "execution_count": null,
   "id": "b1ada94d-f529-450e-8084-77bda16972ab",
   "metadata": {
    "pycharm": {
     "name": "#%%\n"
    }
   },
   "outputs": [],
   "source": [
    "# %load solutions/compare/kmeans_vs_gmm.py"
   ]
  },
  {
   "cell_type": "markdown",
   "id": "f27e5721-2bee-4fa6-badf-581ea12567ee",
   "metadata": {
    "pycharm": {
     "name": "#%% md\n"
    }
   },
   "source": [
    "<span style=\"color:teal \">[Solution]</span>\n",
    "\n",
    "<!-- **Interpretation**: With this naive way of doing things, matching is not so easy and relevant as comparing kmeans with each other. Sometimes we even merge two classes together. Strictly speaking, we should update the `matchClasses` function to avoid this. -->"
   ]
  },
  {
   "cell_type": "markdown",
   "id": "180876bf-b5db-4804-b571-8ba39752707d",
   "metadata": {
    "pycharm": {
     "name": "#%% md\n"
    }
   },
   "source": [
    "##### <span style=\"color:purple\">**Todo:** Visually compare the kmeans and GMM segmentation. </span>\n",
    "\n",
    "Visualize side by side the partition obtained by kmeans (re-oroded), the one obtained by GMM and an image highlighting the differently classified pixels."
   ]
  },
  {
   "cell_type": "code",
   "execution_count": null,
   "id": "ef537b61-dcab-4d02-8ce4-3766cbae27bd",
   "metadata": {
    "pycharm": {
     "name": "#%%\n"
    }
   },
   "outputs": [],
   "source": [
    "### TO BE COMPLETED ### \n",
    "\n",
    "[...]"
   ]
  },
  {
   "cell_type": "code",
   "execution_count": null,
   "id": "234a9da1-8b4e-4249-9b56-fb93f405780f",
   "metadata": {
    "pycharm": {
     "name": "#%%\n"
    }
   },
   "outputs": [],
   "source": [
    "# %load solutions/compare/kmeans_vs_gmm_img.py"
   ]
  },
  {
   "cell_type": "markdown",
   "id": "9b62d98e-43bb-4db3-9140-28b3c9c0124d",
   "metadata": {
    "pycharm": {
     "name": "#%% md\n"
    }
   },
   "source": [
    "## Comparison to experts ground truth"
   ]
  },
  {
   "cell_type": "markdown",
   "id": "b7dafa2e-281e-49eb-adfa-966ad97b58d2",
   "metadata": {
    "pycharm": {
     "name": "#%% md\n"
    }
   },
   "source": [
    "##### <span style=\"color:purple\">**Todo:** Load the experts ground truth.</span>\n",
    "\n",
    "Load them as a `numpy`-array of size (38400,)"
   ]
  },
  {
   "cell_type": "code",
   "execution_count": null,
   "id": "a4b686a8-9ed9-40a2-a88b-6e2325d50f4a",
   "metadata": {
    "pycharm": {
     "name": "#%%\n"
    }
   },
   "outputs": [],
   "source": [
    "### TO BE COMPLETED ### \n",
    "\n",
    "[...]"
   ]
  },
  {
   "cell_type": "code",
   "execution_count": null,
   "id": "e7c680d2-f803-4f52-b008-f27299302992",
   "metadata": {
    "pycharm": {
     "name": "#%%\n"
    }
   },
   "outputs": [],
   "source": [
    "# %load solutions/compare/expert_data.py"
   ]
  },
  {
   "cell_type": "markdown",
   "id": "2e284929-ea19-49b6-a663-9d3c206f78b5",
   "metadata": {
    "pycharm": {
     "name": "#%% md\n"
    }
   },
   "source": [
    "##### <span style=\"color:purple\">**Question:** Do the ground truth classes seem balanced to you?</span>\n"
   ]
  },
  {
   "cell_type": "code",
   "execution_count": null,
   "id": "8b0b7aca-4f11-4ab5-91a0-4dda5f43b35b",
   "metadata": {
    "pycharm": {
     "name": "#%%\n"
    }
   },
   "outputs": [],
   "source": [
    "### TO BE COMPLETED ### \n",
    "\n",
    "[...]"
   ]
  },
  {
   "cell_type": "code",
   "execution_count": null,
   "id": "fac25833-04b6-45b6-82b7-613e1bb5cfbf",
   "metadata": {
    "pycharm": {
     "name": "#%%\n"
    }
   },
   "outputs": [],
   "source": [
    "# %load solutions/compare/expert_balance.py"
   ]
  },
  {
   "cell_type": "markdown",
   "id": "01321968-7edf-41ac-a12b-609488d16f61",
   "metadata": {
    "pycharm": {
     "name": "#%% md\n"
    }
   },
   "source": [
    "<span style=\"color:teal \">[Solution]</span>\n",
    "\n",
    "<!-- **Interpretation**: Class 7 is far too low to be considered relevant. We will treat it as outliers, and merge it with the Class 5. Thus the ground truth consists effectively of 6 classes. -->"
   ]
  },
  {
   "cell_type": "code",
   "execution_count": null,
   "id": "2a1da96d-5350-4977-9ecd-81eca5b7cd7e",
   "metadata": {
    "pycharm": {
     "name": "#%%\n"
    }
   },
   "outputs": [],
   "source": [
    "clusters_expert[clusters_expert==7] = 5\n",
    "\n",
    "for i in range(10):\n",
    "    print(i, ':', np.sum(clusters_expert==i) )"
   ]
  },
  {
   "cell_type": "markdown",
   "id": "2d95065b-07e0-4cb7-8364-16496f5e2d8f",
   "metadata": {
    "pycharm": {
     "name": "#%% md\n"
    }
   },
   "source": [
    "##### <span style=\"color:purple\">**Todo:** View the ground truth obtained by the Mars experts.</span>"
   ]
  },
  {
   "cell_type": "code",
   "execution_count": null,
   "id": "597f2147-4f46-4f14-aa24-5c5af5be37db",
   "metadata": {
    "pycharm": {
     "name": "#%%\n"
    }
   },
   "outputs": [],
   "source": [
    "### TO BE COMPLETED ### \n",
    "\n",
    "[...]"
   ]
  },
  {
   "cell_type": "code",
   "execution_count": null,
   "id": "a00808f8-ccae-4a74-94fb-678fd9e3a7fd",
   "metadata": {
    "pycharm": {
     "name": "#%%\n"
    }
   },
   "outputs": [],
   "source": [
    "# %load solutions/compare/expert_img.py"
   ]
  },
  {
   "cell_type": "markdown",
   "id": "be744ba4-57a1-4cb8-8f6a-196f323cf179",
   "metadata": {
    "pycharm": {
     "name": "#%% md\n"
    }
   },
   "source": [
    "##### <span style=\"color:purple\">**Todo:** Visually compare the ground truth to previously obtained classifications.</span>\n",
    "\n",
    "What do you think about it?"
   ]
  },
  {
   "cell_type": "code",
   "execution_count": null,
   "id": "f1dac27d-3294-4584-b9b2-04efe307f788",
   "metadata": {
    "pycharm": {
     "name": "#%%\n"
    }
   },
   "outputs": [],
   "source": [
    "### TO BE COMPLETED ### \n",
    "\n",
    "[...]"
   ]
  },
  {
   "cell_type": "code",
   "execution_count": null,
   "id": "934fb2bb-b698-4760-b0f9-c01843eb84ad",
   "metadata": {
    "pycharm": {
     "name": "#%%\n"
    }
   },
   "outputs": [],
   "source": [
    "# %load solutions/compare/compare_img.py"
   ]
  },
  {
   "cell_type": "markdown",
   "id": "5662c985-86aa-459f-92d7-ad2f5e0cb9af",
   "metadata": {
    "pycharm": {
     "name": "#%% md\n"
    }
   },
   "source": [
    "<span style=\"color:teal \">[Solution]</span>\n",
    "\n",
    "<!-- **Interpretation**: The results do not seem to be very good: many classes have been merged together in such a way that segmentations are only provided in 3 classes... \n",
    "\n",
    "[Bouveyron (2017)](https://hal.science/hal-01264844) uses the `R `package `HDClassive` to estimate the parameters of Gaussian mixture models in connection with a dimension reduction. The resulting image is still very different from the previous ones. It is difficult to know if an automatic segmentation is more appropriate than another to find what could be a \"good\" geological map of Mars. This underlines all the difficulties of making informed choices in an unsupervised context. -->"
   ]
  },
  {
   "cell_type": "markdown",
   "id": "057fcfdc-6666-416c-8a0a-bfca2ac5cfcb",
   "metadata": {
    "pycharm": {
     "name": "#%% md\n"
    }
   },
   "source": [
    "##### <span style=\"color:purple\">**Todo:** Quantitatively compare the ground truth to previously obtained classifications.</span>\n",
    "\n",
    "You could use the Fowlkes-Mallows score and the mutual information score for instance."
   ]
  },
  {
   "cell_type": "code",
   "execution_count": null,
   "id": "60081f07-c57b-4b05-ac03-e135b1692bbd",
   "metadata": {
    "pycharm": {
     "name": "#%%\n"
    }
   },
   "outputs": [],
   "source": [
    "### TO BE COMPLETED ### \n",
    "\n",
    "[...]"
   ]
  },
  {
   "cell_type": "code",
   "execution_count": null,
   "id": "73bb1997-ea81-4193-8545-46dfb3c9b2e8",
   "metadata": {
    "pycharm": {
     "name": "#%%\n"
    }
   },
   "outputs": [],
   "source": [
    "# %load solutions/compare/compare_score.py"
   ]
  },
  {
   "cell_type": "markdown",
   "id": "91cc6f3a-75d7-4132-a5a5-ac60203b28db",
   "metadata": {
    "pycharm": {
     "name": "#%% md\n"
    }
   },
   "source": [
    "<span style=\"color:teal \">[Solution]</span>\n",
    "\n",
    "<!-- **Interpretation**: Results appear relatively similar... -->"
   ]
  },
  {
   "cell_type": "markdown",
   "id": "04447e22-0bfd-473d-88c6-8a8b946dfbb1",
   "metadata": {
    "pycharm": {
     "name": "#%% md\n"
    }
   },
   "source": [
    "However, there is some randomness in both versions of the algorithms (Random initialization for $k$-means, random subset of data for agglomerative clustering). To obtain more relevant results, several runs should be conducted and averaged for $k$-means and all the data should be used for agglomerative clustering."
   ]
  },
  {
   "cell_type": "markdown",
   "id": "1356e512-e38b-4193-9d56-fabf1065ed77",
   "metadata": {
    "pycharm": {
     "name": "#%% md\n"
    }
   },
   "source": [
    "##### <span style=\"color:purple\">**Question:** Does this hazard induce a strong variability in the results?</span>\n",
    "\n",
    "Perform several runs of the kmeans algorithm and compare the subsequent error scores. "
   ]
  },
  {
   "cell_type": "code",
   "execution_count": null,
   "id": "88ec8b1f-3db2-48c6-b5c9-57bccdd11059",
   "metadata": {
    "pycharm": {
     "name": "#%%\n"
    }
   },
   "outputs": [],
   "source": [
    "### TO BE COMPLETED ### \n",
    "\n",
    "[...]"
   ]
  },
  {
   "cell_type": "code",
   "execution_count": null,
   "id": "4ad457b6-24a9-4d4f-9253-c61862064437",
   "metadata": {
    "pycharm": {
     "name": "#%%\n"
    }
   },
   "outputs": [],
   "source": [
    "# %load solutions/compare/compare_nruns.py"
   ]
  },
  {
   "cell_type": "markdown",
   "id": "0f4870af-3a85-474b-8482-5041cb1685f4",
   "metadata": {
    "pycharm": {
     "name": "#%% md\n"
    }
   },
   "source": [
    "<span style=\"color:teal \">[Solution]</span>\n",
    "\n",
    "<!-- **Interpretation**: Not so much variability in the end. -->"
   ]
  }
 ],
 "metadata": {
  "celltoolbar": "Slideshow",
  "kernelspec": {
   "display_name": "Python 3 (ipykernel)",
   "language": "python",
   "name": "python3"
  },
  "language_info": {
   "codemirror_mode": {
    "name": "ipython",
    "version": 3
   },
   "file_extension": ".py",
   "mimetype": "text/x-python",
   "name": "python",
   "nbconvert_exporter": "python",
   "pygments_lexer": "ipython3",
   "version": "3.9.12"
  }
 },
 "nbformat": 4,
 "nbformat_minor": 5
}
